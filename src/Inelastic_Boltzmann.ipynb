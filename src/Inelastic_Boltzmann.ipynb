{
 "cells": [
  {
   "cell_type": "markdown",
   "metadata": {},
   "source": [
    "# The fast spectral method"
   ]
  },
  {
   "cell_type": "markdown",
   "metadata": {},
   "source": [
    "By choosing the test function $\\phi(v) = e^{-i\\frac{\\pi}{L} k\\cdot v}$ in the weak form, we can obtain the Fourier expansion of $Q$:\n",
    "\n",
    "$$\\hat{Q}_k= \\sum_{\\substack{l,m=-\\frac{N}{2}\\\\l+m=k}}^{\\frac{N}{2}-1} G(l,m) \\hat{f}_l \\hat{f}_m\\,,$$\n",
    "\n",
    "where the weight $G(l,m)$ is given by\n",
    "\n",
    "$$\n",
    "G(l,m)=\\int_{\\mathbb{R}^d}e^{-i\\frac{\\pi}{L}m \\cdot g}\\bigg[\\int_{S^{d-1}}B_{\\sigma}(\\lvert g\\rvert,\\sigma\\cdot \\hat{g})\\left(e^{-i\\frac{\\pi}{L}\\frac{1+e}{4}(l+m)\\cdot (|g|\\sigma-g)}-1\\right)\\,\\mathrm{d}{\\sigma}\\bigg]\\,\\mathrm{d}{g} \\,,\n",
    "$$\n",
    "\n",
    "where $g$ needs to be truncated properly as was done for the elastic case. \n",
    "\n",
    "The idea of the fast algorithm is to separate the weight $G$ as $G(l,m)\\approx\\sum_{t=1}^T\\alpha_t(l+m)\\beta_t(m)$ using quadrature rules."
   ]
  },
  {
   "cell_type": "code",
   "execution_count": 26,
   "metadata": {
    "collapsed": true
   },
   "outputs": [],
   "source": [
    "%matplotlib inline\n",
    "import numpy as np\n",
    "from math import pi\n",
    "from scipy import special\n",
    "import matplotlib.pyplot as plt\n",
    "import pyfftw\n",
    "\n",
    "from fast_spec_col_2d import FastSpectralCollison2D\n",
    "from fast_spec_col_3d import FastSpectralCollison3D\n",
    "# parellel module\n",
    "# from pathos.multiprocessing import ProcessingPool"
   ]
  },
  {
   "cell_type": "code",
   "execution_count": 3,
   "metadata": {
    "collapsed": true
   },
   "outputs": [],
   "source": [
    "# Runge-Kutta schemes\n",
    "\n",
    "def Euler(f, L, eps, dt):\n",
    "    return f + dt*L(f, eps)\n",
    "\n",
    "def RK2(f, L, eps, dt):\n",
    "    k1 = L(f, eps)\n",
    "    return f + dt*L(f + 0.5*dt*k1, eps)\n",
    "\n",
    "def RK3(f, L, eps, dt):\n",
    "    k1 = L(f, eps)\n",
    "    k2 = L(f + 0.5*dt*k1, eps)\n",
    "    k3 = L(f - dt*k1 + 2*dt*k2, eps)\n",
    "    return f + 1/6*dt*(k1 + 4*k2 + k3)\n",
    "\n",
    "def RK4(f, L, eps, dt):\n",
    "    k1 = L(f, eps)\n",
    "    k2 = L(f + 0.5*dt*k1, eps)\n",
    "    k3 = L(f + 0.5*dt*k2, eps)\n",
    "    k4 = L(f + dt*k3, eps)\n",
    "    return f + dt*(k1 + 2*k2 + 2*k3 + k4)/6"
   ]
  },
  {
   "cell_type": "code",
   "execution_count": 4,
   "metadata": {},
   "outputs": [],
   "source": [
    "def plot_2d(f, cs):\n",
    "    N = f.shape[0]\n",
    "    dv = 2*L/N\n",
    "    v = np.mgrid[-L+dv/2:L+dv/2:dv,-L+dv/2:L+dv/2:dv]\n",
    "    v_norm = v[0]**2 + v[1]**2\n",
    "\n",
    "    fig, ax = plt.subplots()\n",
    "    cs = ax.contour(v[0], v[1], f)\n",
    "    if cs == 1:\n",
    "        ax.clabel(cs, inline=0.5)\n",
    "        \n",
    "    ax.grid(linestyle=':')\n",
    "\n",
    "    plt.show()"
   ]
  },
  {
   "cell_type": "markdown",
   "metadata": {},
   "source": [
    "## 2D case"
   ]
  },
  {
   "cell_type": "markdown",
   "metadata": {},
   "source": [
    "In 2D, and VHS case $B_{\\sigma}(|g|,\\sigma\\cdot \\hat{g})=C_{\\gamma}|g|^{\\gamma}$:\n",
    "\n",
    "$$\n",
    "\\int_{S^1}B_{\\sigma}(|g|,\\sigma\\cdot \\hat{g})\\left(e^{-i\\frac{\\pi}{L}\\frac{1+e}{4}(l+m)\\cdot (|g|\\sigma-g)}-1\\right)\\,\\mathrm{d}{\\sigma}=2\\pi C_{\\gamma}|g|^{\\gamma}\\left[ e^{i\\frac{\\pi}{L}\\frac{1+e}{4}(l+m)\\cdot g}\\text{J}_0\\left(\\frac{\\pi}{L}\\frac{1+e}{4}|l+m||g|\\right)-1\\right],\n",
    "$$\n",
    "\n",
    "then let $\\rho=|g|$, $\\sigma=\\hat{g}$,\n",
    "\n",
    "$$\n",
    "G(l,m)=\\sum_{\\rho,\\sigma}w_{\\rho}w_{\\sigma}2\\pi C_{\\gamma}\\rho^{\\gamma+1}e^{-i\\frac{\\pi}{L}\\rho m \\cdot \\sigma}\\left[ e^{i\\frac{\\pi}{L}\\frac{1+e}{4}\\rho (l+m)\\cdot \\sigma}\\text{J}_0\\left(\\frac{\\pi}{L}\\frac{1+e}{4}|l+m|\\rho\\right)-1\\right],\n",
    "$$\n",
    "\n",
    "therefore,\n",
    "\n",
    "$$ \n",
    "\\hat{Q}_k=\\sum_{\\rho,\\sigma}w_{\\rho}w_{\\sigma}2\\pi C_{\\gamma}\\rho^{\\gamma+1}\\left[ e^{i\\frac{\\pi}{L}\\frac{1+e}{4}\\rho k\\cdot \\sigma}\\text{J}_0\\left(\\frac{\\pi}{L}\\frac{1+e}{4}\\rho |k|\\right)-1\\right]\\sum_{\\substack{l,m=-\\frac{N}{2}\\\\l+m=k}}^{\\frac{N}{2}-1}\\hat{f}_l \\left[e^{-i\\frac{\\pi}{L}\\rho m \\cdot \\sigma}\\hat{f}_m\\right],\n",
    "$$\n",
    "\n",
    "or the loss term can be computed separately as\n",
    "\n",
    "$$ \n",
    "\\hat{Q}_k^-=\\sum_{\\rho,\\sigma}w_{\\rho}w_{\\sigma}2\\pi C_{\\gamma}\\rho^{\\gamma+1}\\sum_{\\substack{l,m=-\\frac{N}{2}\\\\l+m=k}}^{\\frac{N}{2}-1}\\hat{f}_l \\left[e^{-i\\frac{\\pi}{L}\\rho m \\cdot \\sigma}\\hat{f}_m\\right]=\\sum_{\\rho}w_{\\rho}4\\pi^2 C_{\\gamma}\\rho^{\\gamma+1}\\sum_{\\substack{l,m=-\\frac{N}{2}\\\\l+m=k}}^{\\frac{N}{2}-1}\\hat{f}_l \\left[\\text{J}_0\\left(\\frac{\\pi}{L}\\rho |m|\\right)\\hat{f}_m\\right].\n",
    "$$"
   ]
  },
  {
   "cell_type": "markdown",
   "metadata": {},
   "source": [
    "## 2D accuracy test\n",
    "\n",
    "Maxwell molecule:\n",
    "\n",
    "$$\n",
    "B_\\sigma(|g|, \\sigma\\cdot \\hat{g}) = C_0 b_0(\\sigma\\cdot\\hat{g}).\n",
    "$$\n",
    "\n",
    "Initial value\n",
    "\n",
    "$$\n",
    "f(t,v) = \\frac{1}{2\\pi K^2}\\exp\\left(-\\frac{v^2}{2K}\\right)\\left(2K - 1 + \\frac{1-K}{2K}v^2\\right),\n",
    "$$\n",
    "\n",
    "where $K = 1 - \\exp(-t/8)/2$ with $t = 0.5$. "
   ]
  },
  {
   "cell_type": "code",
   "execution_count": 28,
   "metadata": {
    "collapsed": true
   },
   "outputs": [],
   "source": [
    "# computation domain\n",
    "S = 4.5\n",
    "R = 2*S\n",
    "L = 0.5*(3+np.sqrt(2))*S\n",
    "\n",
    "N = 256\n",
    "N_R = 30\n",
    "e = 1\n",
    "\n",
    "dv = 2*L/N\n",
    "v = np.ogrid[-L+dv/2:L+dv/2:dv,-L+dv/2:L+dv/2:dv]\n",
    "\n",
    "t = 0.5\n",
    "K = 1 - np.exp(-t/8)/2\n",
    "dK = np.exp(-t/8)/16\n",
    "\n",
    "v_norm = v[0]**2 + v[1]**2\n",
    "\n",
    "# initial f_0\n",
    "f_0 = 1/(2*pi*K**2)*np.exp(-v_norm/(2*K))*(2*K-1+(1-K)*v_norm/(2*K))\n",
    "# initial moments\n",
    "rho_0 = np.sum(f_0)*dv**2\n",
    "u_0_norm = (np.sum(f_0*v[0])*dv**2)**2 + (np.sum(f_0*v[1])*dv**2)**2\n",
    "E_0 = 0.5*np.sum(f_0*v_norm)*dv**2\n",
    "# exact solution\n",
    "df = (-2/K+v_norm/(2*K**2))*f_0 + 1/(2*pi*K**2)*np.exp(-v_norm/(2*K))*(2-v_norm/(2*K**2))\n",
    "df = df*dK\n",
    "extQ = df"
   ]
  },
  {
   "cell_type": "code",
   "execution_count": 6,
   "metadata": {},
   "outputs": [
    {
     "data": {
      "text/plain": [
       "0.9999999999999998"
      ]
     },
     "execution_count": 6,
     "metadata": {},
     "output_type": "execute_result"
    }
   ],
   "source": [
    "E_0"
   ]
  },
  {
   "cell_type": "code",
   "execution_count": 7,
   "metadata": {},
   "outputs": [],
   "source": [
    "Q = FastSpectralCollison2D(e, 0, L, N, R, N_R, M=30)"
   ]
  },
  {
   "cell_type": "code",
   "execution_count": 8,
   "metadata": {},
   "outputs": [
    {
     "name": "stdout",
     "output_type": "stream",
     "text": [
      "CPU times: user 7.22 s, sys: 1.2 s, total: 8.42 s\n",
      "Wall time: 2.85 s\n",
      "CPU times: user 7.53 s, sys: 640 ms, total: 8.17 s\n",
      "Wall time: 2.61 s\n"
     ]
    }
   ],
   "source": [
    "%time Q1 = Q.col_full(f_0)/2/pi\n",
    "%time Q2 = Q.col_sep(f_0)/2/pi"
   ]
  },
  {
   "cell_type": "code",
   "execution_count": null,
   "metadata": {},
   "outputs": [],
   "source": [
    "Q2[20, 20]"
   ]
  },
  {
   "cell_type": "code",
   "execution_count": null,
   "metadata": {},
   "outputs": [],
   "source": [
    "extQ[23, 23]"
   ]
  },
  {
   "cell_type": "code",
   "execution_count": 10,
   "metadata": {},
   "outputs": [
    {
     "data": {
      "text/plain": [
       "1.3147895139021528e-10"
      ]
     },
     "execution_count": 10,
     "metadata": {},
     "output_type": "execute_result"
    }
   ],
   "source": [
    "np.max(np.abs(Q1 - extQ))"
   ]
  },
  {
   "cell_type": "markdown",
   "metadata": {},
   "source": [
    "We also have $\\rho_0 = 1$, $u_0 = 0$, $E = T$. Temperature $T$ safisfies:\n",
    "\n",
    "$$\n",
    "T=\\left(T_0-\\frac{8\\varepsilon}{1-e^2}\\right)\\exp{\\left(-\\frac{1-e^2}{4}t\\right)}+\\frac{8\\varepsilon}{1-e^2}.\n",
    "$$"
   ]
  },
  {
   "cell_type": "markdown",
   "metadata": {},
   "source": [
    "### Numerical Scheme"
   ]
  },
  {
   "cell_type": "code",
   "execution_count": 4,
   "metadata": {
    "collapsed": true
   },
   "outputs": [],
   "source": [
    "# computation domain\n",
    "S = 3.5\n",
    "R = 2*S\n",
    "L = 0.5*(3+np.sqrt(2))*S"
   ]
  },
  {
   "cell_type": "code",
   "execution_count": 7,
   "metadata": {},
   "outputs": [],
   "source": [
    "class TestModule:\n",
    "    \n",
    "    def __init__(self, N, initial, e, gamma=0, eps=0, L=6.62, R=6, N_R=30, M=30):\n",
    "        self.N, self.L, self.eps, self.e = N, L, eps, e\n",
    "        self.dv, self.v_norm = [], []\n",
    "        self.f0, self.Q = [], []\n",
    "        for n in N:\n",
    "            dv = 2*L/n\n",
    "            v = np.arange(-L+dv/2, L+dv/2, dv)\n",
    "            v_norm = (v**2)[:,None] + v**2\n",
    "            self.dv.append(dv)\n",
    "            self.v_norm.append(v_norm)\n",
    "            self.f0.append(initial(n, L))\n",
    "            self.Q.append(FastSpectralCollison2D(e, gamma, L, n, R, N_R, M))\n",
    "            \n",
    "    def ext_T(self, N_index, tfinal):\n",
    "        v_norm, dv = self.v_norm[N_index], self.dv[N_index]\n",
    "        T_0 = 0.5*np.sum(self.f0[N_index]*v_norm)*dv**2\n",
    "#         T_0 = 1.425\n",
    "        return (T_0 - 8*self.eps/(1-self.e**2))*np.exp(-(1-self.e**2)*tfinal/4) + 8*self.eps/(1-self.e**2)\n",
    "    \n",
    "    def solve(self, dt, N_index, Q, Q_col, RK, tfinal):\n",
    "        v_norm, dv = self.v_norm[N_index], self.dv[N_index]\n",
    "        f_hat = Q.fft2(self.f0[N_index])\n",
    "        for t in np.arange(0, tfinal, dt):\n",
    "            f_hat = RK(f_hat, Q_col, self.eps, dt)    \n",
    "        f = np.real(Q.ifft2(f_hat))\n",
    "        return f, 0.5*np.sum(f*v_norm)*dv**2\n",
    "            \n",
    "    def dt_test(self, Dt, method='separate', RK=RK3, N_index=3, tfinal=2):\n",
    "        Q = self.Q[N_index]\n",
    "        if method == 'full':\n",
    "            Q_col = Q.col_heat_hat_full\n",
    "        else:\n",
    "            Q_col = Q.col_heat_hat_sep\n",
    "        \n",
    "        num_T, num_f = [], []\n",
    "        for dt in Dt:\n",
    "            f, T = self.solve(dt, N_index, Q, Q_col, RK, tfinal)\n",
    "            num_T.append(T)\n",
    "            num_f.append(f)\n",
    "        return np.abs(np.asarray(num_T) - self.ext_T(N_index, tfinal)), num_f, num_T\n",
    "    \n",
    "    def N_test(self, dt, method='separate', RK=RK3, tfinal=2):   \n",
    "        num_T, num_f, ext_T = [], [], []\n",
    "        for N_index in [0,1,2,3,4]:\n",
    "            Q = self.Q[N_index]\n",
    "            if method == 'full':\n",
    "                Q_col = Q.col_heat_hat_full\n",
    "            else:\n",
    "                Q_col = Q.col_heat_hat_sep\n",
    "                \n",
    "            f, T = self.solve(dt, N_index, Q, Q_col, RK, tfinal)\n",
    "            num_T.append(T)\n",
    "            num_f.append(f)\n",
    "            ext_T.append(self.ext_T(N_index, tfinal))\n",
    "            \n",
    "        return np.abs(np.asarray(num_T) - np.asarray(ext_T)), num_f, num_T\n",
    "            "
   ]
  },
  {
   "cell_type": "code",
   "execution_count": 8,
   "metadata": {},
   "outputs": [],
   "source": [
    "def initial1(N, L):\n",
    "    dv = 2*L/N\n",
    "    v = np.arange(-L+dv/2, L+dv/2, dv)\n",
    "    v_norm = (v**2)[:,None] + v**2\n",
    "    t = 0.5\n",
    "    K = 1 - 0.5*np.exp(-t/8)\n",
    "    return 1/(2*pi*K**2)*np.exp(-0.5*v_norm/K)*(2*K-1+0.5*v_norm*(1-K)/K)"
   ]
  },
  {
   "cell_type": "code",
   "execution_count": 10,
   "metadata": {},
   "outputs": [],
   "source": [
    "def initial2(N, L):\n",
    "    dv = 2*L/N\n",
    "    v = np.arange(-L+dv/2, L+dv/2, dv)\n",
    "    return 0.8/pi*(np.exp(-(v-2)[:,None]**2/0.25-(v-2)**2/0.25) + np.exp(-(v+0.5)[:,None]**2-(v+0.5)**2))"
   ]
  },
  {
   "cell_type": "code",
   "execution_count": null,
   "metadata": {},
   "outputs": [],
   "source": [
    "f0 = initial1(64, L)\n",
    "plot_2d(f0, 0)"
   ]
  },
  {
   "cell_type": "code",
   "execution_count": 11,
   "metadata": {},
   "outputs": [
    {
     "data": {
      "image/png": "[encoded data removed]",
      "text/plain": [
       "<Figure size 432x288 with 1 Axes>"
      ]
     },
     "metadata": {},
     "output_type": "display_data"
    }
   ],
   "source": [
    "f0 = initial2(64, L)\n",
    "plot_2d(f0, 0)"
   ]
  },
  {
   "cell_type": "code",
   "execution_count": 12,
   "metadata": {},
   "outputs": [
    {
     "data": {
      "text/plain": [
       "3.0204664932396997e-15"
      ]
     },
     "execution_count": 12,
     "metadata": {},
     "output_type": "execute_result"
    }
   ],
   "source": [
    "N = f0.shape[0]\n",
    "dv = 2*L/N\n",
    "v = np.mgrid[-L+dv/2:L+dv/2:dv,-L+dv/2:L+dv/2:dv]\n",
    "v_norm = v[0]**2 + v[1]**2\n",
    "\n",
    "np.sum(f0*v[1])*dv**2"
   ]
  },
  {
   "cell_type": "code",
   "execution_count": 13,
   "metadata": {},
   "outputs": [
    {
     "data": {
      "text/plain": [
       "1.000000000000001"
      ]
     },
     "execution_count": 13,
     "metadata": {},
     "output_type": "execute_result"
    }
   ],
   "source": [
    "np.sum(f0)*dv**2"
   ]
  },
  {
   "cell_type": "code",
   "execution_count": 14,
   "metadata": {},
   "outputs": [
    {
     "data": {
      "text/plain": [
       "1.4250000000000027"
      ]
     },
     "execution_count": 14,
     "metadata": {},
     "output_type": "execute_result"
    }
   ],
   "source": [
    "0.5*np.sum(f0*v_norm)*dv**2"
   ]
  },
  {
   "cell_type": "code",
   "execution_count": null,
   "metadata": {},
   "outputs": [],
   "source": [
    "def plot_err(x, err, rate, name):\n",
    "    fig, ax = plt.subplots()\n",
    "    ax.loglog(x, err, 'o-', label='numerical error of $T$')\n",
    "    ax.loglog(x, np.asarray(x)**rate, label='reference: 3-order')\n",
    "    ax.set_xlabel('$\\Delta t$')\n",
    "    ax.set_ylabel('error of $T$')\n",
    "    ax.set_title('Convergence of RK3 in $\\Delta t$')\n",
    "    ax.legend(fontsize='large')\n",
    "    ax.grid(which='both',linestyle=':')\n",
    "    plt.savefig(name)\n",
    "    plt.show()"
   ]
  },
  {
   "cell_type": "markdown",
   "metadata": {},
   "source": [
    "### Time convergence 1"
   ]
  },
  {
   "cell_type": "code",
   "execution_count": 15,
   "metadata": {},
   "outputs": [
    {
     "name": "stdout",
     "output_type": "stream",
     "text": [
      "CPU times: user 4.58 s, sys: 426 ms, total: 5.01 s\n",
      "Wall time: 5.01 s\n"
     ]
    }
   ],
   "source": [
    "%%time\n",
    "# computation domain\n",
    "S = 3.9\n",
    "R = 2*S\n",
    "L = 0.5*(3+np.sqrt(2))*S\n",
    "\n",
    "N = np.array([8, 16, 32, 64, 128])\n",
    "test = TestModule(N, initial1, 0.2, eps=1e-6, L=L, R=R)"
   ]
  },
  {
   "cell_type": "code",
   "execution_count": 16,
   "metadata": {},
   "outputs": [
    {
     "data": {
      "text/plain": [
       "(8.607716446627535, 7.8)"
      ]
     },
     "execution_count": 16,
     "metadata": {},
     "output_type": "execute_result"
    }
   ],
   "source": [
    "L, R"
   ]
  },
  {
   "cell_type": "code",
   "execution_count": null,
   "metadata": {},
   "outputs": [],
   "source": [
    "plot_2d(test.f0[3], 0)"
   ]
  },
  {
   "cell_type": "code",
   "execution_count": null,
   "metadata": {},
   "outputs": [],
   "source": [
    "%%time\n",
    "# Dt = [0.1, 0.05, 0.02, 0.01, 0.005]\n",
    "Dt = [0.5, 0.4, 0.2, 0.1, 0.05, 0.04, 0.02, 0.01]\n",
    "# Dt = [0.1]\n",
    "err, num_f, num_T = test.dt_test(Dt, method='full', RK=RK3, N_index=3)\n",
    "np.savez('test', dt=Dt, err=err, num_T=num_T, num_f=num_f)"
   ]
  },
  {
   "cell_type": "code",
   "execution_count": null,
   "metadata": {},
   "outputs": [],
   "source": [
    "err"
   ]
  },
  {
   "cell_type": "code",
   "execution_count": null,
   "metadata": {},
   "outputs": [],
   "source": [
    "np.savez('dt_2d_bgk_e_full=0.2', dt=Dt, err=err, num_T=num_T, num_f=num_f)"
   ]
  },
  {
   "cell_type": "code",
   "execution_count": null,
   "metadata": {},
   "outputs": [],
   "source": [
    "plot_2d(num_f[5], 0)"
   ]
  },
  {
   "cell_type": "code",
   "execution_count": null,
   "metadata": {},
   "outputs": [],
   "source": [
    "plot_err(Dt, err, 3, 'dt_2d_bgk_e_full=0.2.pdf')"
   ]
  },
  {
   "cell_type": "markdown",
   "metadata": {},
   "source": [
    "### Time convergence 2"
   ]
  },
  {
   "cell_type": "code",
   "execution_count": 17,
   "metadata": {},
   "outputs": [
    {
     "name": "stdout",
     "output_type": "stream",
     "text": [
      "CPU times: user 4.53 s, sys: 503 ms, total: 5.03 s\n",
      "Wall time: 5.03 s\n"
     ]
    }
   ],
   "source": [
    "%%time\n",
    "# computation domain\n",
    "S = 4\n",
    "R = 2*S\n",
    "L = 0.5*(3+np.sqrt(2))*S\n",
    "\n",
    "N = np.array([8, 16, 32, 64, 128])\n",
    "test = TestModule(N, initial2, 0.2, eps=1e-6, L=L, R=R)"
   ]
  },
  {
   "cell_type": "code",
   "execution_count": 18,
   "metadata": {},
   "outputs": [
    {
     "data": {
      "text/plain": [
       "8.82842712474619"
      ]
     },
     "execution_count": 18,
     "metadata": {},
     "output_type": "execute_result"
    }
   ],
   "source": [
    "L"
   ]
  },
  {
   "cell_type": "code",
   "execution_count": null,
   "metadata": {},
   "outputs": [],
   "source": [
    "plot_2d(test.f0[3], 0)"
   ]
  },
  {
   "cell_type": "code",
   "execution_count": null,
   "metadata": {},
   "outputs": [],
   "source": [
    "%%time\n",
    "Dt = [0.5, 0.4, 0.2, 0.1, 0.05, 0.04, 0.02, 0.01]\n",
    "# Dt = [1, 0.8, 0.7, 0.6, 0.5]\n",
    "err, num_f, num_T = test.dt_test(Dt, method='full', RK=RK3, N_index=3)"
   ]
  },
  {
   "cell_type": "code",
   "execution_count": null,
   "metadata": {},
   "outputs": [],
   "source": [
    "err"
   ]
  },
  {
   "cell_type": "code",
   "execution_count": null,
   "metadata": {},
   "outputs": [],
   "source": [
    "np.savez('dt_2d_e_full=0.2', dt=Dt, err=err, num_T=num_T, num_f=num_f)"
   ]
  },
  {
   "cell_type": "code",
   "execution_count": null,
   "metadata": {},
   "outputs": [],
   "source": [
    "plot_2d(num_f[5], 0)"
   ]
  },
  {
   "cell_type": "code",
   "execution_count": null,
   "metadata": {},
   "outputs": [],
   "source": [
    "plot_err(Dt, err, 3, 'dt_2d_e_full=0.2.pdf')"
   ]
  },
  {
   "cell_type": "markdown",
   "metadata": {},
   "source": [
    "### N convergence 1"
   ]
  },
  {
   "cell_type": "code",
   "execution_count": null,
   "metadata": {},
   "outputs": [],
   "source": [
    "%%time\n",
    "# computation domain\n",
    "S = 3.9\n",
    "R = 2*S\n",
    "L = 0.5*(3+np.sqrt(2))*S\n",
    "\n",
    "N = np.array([8, 16, 32, 64, 128])\n",
    "test = TestModule(N, initial1, 0.2, eps=1e-6, L=L, R=R)"
   ]
  },
  {
   "cell_type": "code",
   "execution_count": null,
   "metadata": {},
   "outputs": [],
   "source": [
    "%%time\n",
    "dt = 0.01\n",
    "err_N, num_f, num_T = test.N_test(dt, method='full', RK=RK3)"
   ]
  },
  {
   "cell_type": "code",
   "execution_count": null,
   "metadata": {},
   "outputs": [],
   "source": [
    "err_N"
   ]
  },
  {
   "cell_type": "code",
   "execution_count": null,
   "metadata": {},
   "outputs": [],
   "source": [
    "np.savez('N_2d_bgk_e_full=0.2', N=N, err=err_N, num_T=num_T, num_f=num_f)"
   ]
  },
  {
   "cell_type": "markdown",
   "metadata": {},
   "source": [
    "**$\\text{tfinal} = 2$, $\\Delta t = 0.01$, $e = 0.2$**\n",
    "\n",
    "| $N$ | Separate | Full |\n",
    "| ------ | ------ | ------|\n",
    "| 8 | 9.21116565e-01 | 9.21116565e-01 |\n",
    "| 16 | 1.27634481e-02 |1.27640374e-02 |\n",
    "| 32 | 6.79544555e-06 | 6.79745658e-06 |\n",
    "| 64 | 2.34851361e-10 | 2.36438646e-10 |\n",
    "| 128 | 6.30565600e-11 | 6.13890050e-11 |\n",
    "\n",
    "**$\\text{tfinal} = 2$, $\\Delta t = 0.01$, $e = 0.5$**\n",
    "\n",
    "| $N$ | Separate | Full |\n",
    "| ------ | ------ | ------ |\n",
    "| 8 | 7.98706096e-01 | 7.98706096e-01 |\n",
    "| 16 | 6.42641236e-03 | 6.42644165e-03 |\n",
    "| 32 | 4.55713801e-06 | 4.55730861e-06 |\n",
    "| 64 | 4.93595165e-11 | 4.93770580e-11 |\n",
    "| 128 | 3.13873372e-11 | 3.14279713e-11 |\n",
    "\n",
    "**$\\text{tfinal} = 2$, $\\Delta t = 0.01$, $e = 0.8$**\n",
    "\n",
    "| $N$ | Separate | Full |\n",
    "| ------ | ------ | ------|\n",
    "| 8 | 5.52666966e-01 | 5.52666966e-01 |\n",
    "| 16 | 4.88821204e-04 | 4.88586534e-04  |\n",
    "| 32 | 1.14430393e-07 | 1.13897201e-07   |\n",
    "| 64 | 9.82359749e-11 | 9.82520731e-11   |\n",
    "| 128 | 1.00099595e-10 | 1.00117470e-10   |"
   ]
  },
  {
   "cell_type": "markdown",
   "metadata": {},
   "source": [
    "### N convergence 2"
   ]
  },
  {
   "cell_type": "code",
   "execution_count": null,
   "metadata": {},
   "outputs": [],
   "source": [
    "%%time\n",
    "# computation domain\n",
    "S = 4\n",
    "R = 2*S\n",
    "L = 0.5*(3+np.sqrt(2))*S\n",
    "\n",
    "N = np.array([8, 16, 32, 64, 128])\n",
    "\n",
    "test2 = TestModule(N, initial2, 0.2, eps=1e-6, L=L, R=R)\n",
    "test5 = TestModule(N, initial2, 0.5, eps=1e-6, L=L, R=R)\n",
    "test8 = TestModule(N, initial2, 0.8, eps=1e-6, L=L, R=R)\n",
    "\n",
    "dt = 0.01\n",
    "\n",
    "err_N2, num_f2, num_T2 = test2.N_test(dt, RK=RK3)\n",
    "err_N5, num_f5, num_T5 = test5.N_test(dt, RK=RK3)\n",
    "err_N8, num_f8, num_T8 = test8.N_test(dt, RK=RK3)\n",
    "\n",
    "err_N2_full, num_f2_full, num_T2_full = test2.N_test(dt, method='full', RK=RK3)\n",
    "err_N5_full, num_f5_full, num_T5_full = test5.N_test(dt, method='full', RK=RK3)\n",
    "err_N8_full, num_f8_full, num_T8_full = test8.N_test(dt, method='full', RK=RK3)\n",
    "\n",
    "\n",
    "np.savez('N_2d_e=0.2', N=N, err=err_N2, num_T=num_T2, num_f=num_f2)\n",
    "np.savez('N_2d_e=0.5', N=N, err=err_N5, num_T=num_T5, num_f=num_f5)\n",
    "np.savez('N_2d_e=0.8', N=N, err=err_N8, num_T=num_T8, num_f=num_f8)\n",
    "\n",
    "np.savez('N_2d_e_full=0.2', N=N, err=err_N2_full, num_T=num_T2_full, num_f=num_f2_full)\n",
    "np.savez('N_2d_e_full=0.5', N=N, err=err_N5_full, num_T=num_T5_full, num_f=num_f5_full)\n",
    "np.savez('N_2d_e_full=0.8', N=N, err=err_N8_full, num_T=num_T8_full, num_f=num_f8_full)"
   ]
  },
  {
   "cell_type": "code",
   "execution_count": null,
   "metadata": {},
   "outputs": [],
   "source": [
    "err_N2"
   ]
  },
  {
   "cell_type": "code",
   "execution_count": null,
   "metadata": {},
   "outputs": [],
   "source": [
    "err_N2_full"
   ]
  },
  {
   "cell_type": "code",
   "execution_count": null,
   "metadata": {},
   "outputs": [],
   "source": [
    "err_N5"
   ]
  },
  {
   "cell_type": "code",
   "execution_count": null,
   "metadata": {},
   "outputs": [],
   "source": [
    "err_N5_full"
   ]
  },
  {
   "cell_type": "code",
   "execution_count": null,
   "metadata": {},
   "outputs": [],
   "source": [
    "err_N8"
   ]
  },
  {
   "cell_type": "code",
   "execution_count": null,
   "metadata": {},
   "outputs": [],
   "source": [
    "err_N8_full"
   ]
  },
  {
   "cell_type": "markdown",
   "metadata": {},
   "source": [
    "**$\\text{tfinal} = 2$, $\\Delta t = 0.01$, $e = 0.2$**\n",
    "\n",
    "| $N$ | Separate | Full |\n",
    "| ------ | ------ | ------|\n",
    "| 8 | 1.25303916e-01 | 1.25303916e-01 |\n",
    "| 16 | 1.41601818e-02 |1.42811856e-02 |\n",
    "| 32 | 1.21162093e-04 | 8.50383206e-05 |\n",
    "| 64 | 8.65618628e-08 | 5.75217760e-05 |\n",
    "| 128 | 2.64749862e-08 | 5.74603408e-05 |\n",
    "\n",
    "**$\\text{tfinal} = 2$, $\\Delta t = 0.01$, $e = 0.5$**\n",
    "\n",
    "| $N$ | Separate | Full |\n",
    "| ------ | ------ | ------ |\n",
    "| 8 | 9.06935081e-02 | 9.06935081e-02 |\n",
    "| 16 | 2.06153352e-02 | 2.07345865e-02 |\n",
    "| 32 | 1.08598123e-04 | 7.68575010e-05 |\n",
    "| 64 | 3.61540865e-08 | 4.58166915e-05 |\n",
    "| 128 | 4.84827622e-09 | 4.57852460e-05 |\n",
    "\n",
    "**$\\text{tfinal} = 2$, $\\Delta t = 0.01$, $e = 0.8$**\n",
    "\n",
    "| $N$ | Separate | Full |\n",
    "| ------ | ------ | ------|\n",
    "| 8 | 4.21932177e-02 | 4.21932177e-02 |\n",
    "| 16 | 2.19257970e-02 | 2.17989934e-02  |\n",
    "| 32 | 1.25546782e-04 | 1.17000137e-04   |\n",
    "| 64 | 1.55334599e-08 | 2.42867607e-05   |\n",
    "| 128 |  5.91159477e-09 | 2.42767854e-05   |"
   ]
  },
  {
   "cell_type": "markdown",
   "metadata": {},
   "source": [
    "## 2D BKW Solution"
   ]
  },
  {
   "cell_type": "markdown",
   "metadata": {},
   "source": [
    "$$f(t,v) = \\frac{1}{2\\pi K^2}\\exp\\left(-\\frac{v^2}{2K}\\right)\\left(2K - 1 + \\frac{1-K}{2K}v^2\\right), $$\n",
    "\n",
    "where $K = 1 - \\exp(-t/8)/2$.\n",
    "\n",
    "According to Boltzmann equation\n",
    "\n",
    "$$\\frac{\\partial f}{\\partial t} = Q(f),$$\n",
    "\n",
    "The exact vaule of $Q(f)$ is\n",
    "\n",
    "$$\\frac{\\partial f}{\\partial t} = \\left\\{\\left(-\\frac{2}{K}+\\frac{v^2}{2K^2}\\right) f + \\frac{1}{2\\pi K^2}\\exp\\left(-\\frac{v^2}{2K}\\right)\\left(2-\\frac{v^2}{2K}\\right)\\right\\}K',$$\n",
    "\n",
    "where $K'=\\exp(-t/8)/16$."
   ]
  },
  {
   "cell_type": "code",
   "execution_count": null,
   "metadata": {},
   "outputs": [],
   "source": [
    "%%time\n",
    "gamma = 0\n",
    "N = 32\n",
    "S = 10\n",
    "R = 2*S\n",
    "L = (3+np.sqrt(2))/2*S\n",
    "N_R = N\n",
    "e = 0.8\n",
    "\n",
    "dv = 2*L/N;\n",
    "v = np.ogrid[-L+dv/2:L+dv/2:dv,-L+dv/2:L+dv/2:dv]\n",
    "v_norm = v[0]**2 + v[1]**2\n",
    "\n",
    "f = np.exp(-100*(v[0]-0.5)**2 - 100*(v[1]-0.5)**2) + np.exp(-100*(v[0]+0.5)**2 - 100*(v[1]+0.5)**2)\n",
    "rho_0 = np.sum(f)*dv**2\n",
    "u_0_norm = (np.sum(f*v[0])*dv**2)**2 + (np.sum(f*v[1])*dv**2)**2\n",
    "E_0 = 0.5*np.sum(f*v_norm)*dv**2"
   ]
  },
  {
   "cell_type": "code",
   "execution_count": null,
   "metadata": {},
   "outputs": [],
   "source": [
    "from mpl_toolkits.mplot3d import Axes3D\n",
    "\n",
    "plt.style.use('seaborn')\n",
    "\n",
    "fig, ax = plt.subplots(subplot_kw=dict(projection='3d'))\n",
    "\n",
    "ax.plot_surface(v[0], v[1], f)\n",
    "\n",
    "# ax.set_ylim(-10,10)\n",
    "# ax.set_xlim(-10,10)\n",
    "\n",
    "\n",
    "plt.show()"
   ]
  },
  {
   "cell_type": "code",
   "execution_count": null,
   "metadata": {
    "collapsed": true
   },
   "outputs": [],
   "source": [
    "%%time\n",
    "\n",
    "f = f/rho_0\n",
    "f = Q.fft2(f).copy()\n",
    "\n",
    "dt = 0.001\n",
    "eps = 1e-4\n",
    "\n",
    "for t in range(100):\n",
    "    f = RK4(f, Q.col_heat_sep, eps, dt)\n",
    "    \n",
    "f = np.real(Q.ifft2(f))"
   ]
  },
  {
   "cell_type": "code",
   "execution_count": null,
   "metadata": {
    "collapsed": true
   },
   "outputs": [],
   "source": [
    "E = 0.5*np.sum(f*v_norm)*dv**2"
   ]
  },
  {
   "cell_type": "code",
   "execution_count": null,
   "metadata": {},
   "outputs": [],
   "source": [
    "T(0.1, e, eps, E_0) - E"
   ]
  },
  {
   "cell_type": "markdown",
   "metadata": {},
   "source": [
    "**$T = 0.5$**\n",
    "\n",
    "| $e$ | 0.8 | 0.5 | 0.2 |\n",
    "| ------ | ------ | ------ | ------ |\n",
    "| Full | 7.103e-3 | 4.587e-3 | 3.100e-3 |\n",
    "| Sep | 1.566e-4 | 6.245e-4 | 1.187e-3 |"
   ]
  },
  {
   "cell_type": "markdown",
   "metadata": {},
   "source": [
    "**$T = 5$**\n",
    "\n",
    "| $e$ | 0.8 | 0.5 | 0.2 |\n",
    "| ------ | ------ | ------ | ------ |\n",
    "| Full | 7.103e-3 | 4.587e-3 | 3.100e-3 |\n",
    "| Sep | 1.566e-4 | 6.245e-4 | 1.187e-3 |"
   ]
  },
  {
   "cell_type": "markdown",
   "metadata": {},
   "source": [
    "## 3D case"
   ]
  },
  {
   "cell_type": "markdown",
   "metadata": {},
   "source": [
    "In 3D, and VHS case $B_{\\sigma}(|g|,\\sigma\\cdot \\hat{g})=C_{\\gamma}|g|^{\\gamma}$:\n",
    "\n",
    "$$\n",
    "\\int_{S^2}B_{\\sigma}(|g|,\\sigma\\cdot \\hat{g})\\left(e^{-i\\frac{\\pi}{L}\\frac{1+e}{4}(l+m)\\cdot (|g|\\sigma-g)}-1\\right)\\,\\mathrm{d}\\sigma=4\\pi C_{\\gamma}|g|^{\\gamma}\\bigg[ e^{i\\frac{\\pi}{L}\\frac{1+e}{4}(l+m)\\cdot g}\\text{Sinc}\\left(\\frac{\\pi}{L}\\frac{1+e}{4}\\vert l+m \\vert|g|\\right)-1\\bigg],\n",
    "$$\n",
    "\n",
    "then let $\\rho=|g|$, $\\sigma=\\hat{g}$,\n",
    "\n",
    "$$\n",
    "G(l,m)=\\sum_{\\rho,\\sigma}w_{\\rho}w_{\\sigma}4\\pi C_{\\gamma}\\rho^{\\gamma+2}e^{-i\\frac{\\pi}{L}\\rho m \\cdot \\sigma}\\left[ e^{i\\frac{\\pi}{L}\\frac{1+e}{4}\\rho (l+m)\\cdot \\sigma}\\text{Sinc}\\left(\\frac{\\pi}{L}\\frac{1+e}{4}|l+m|\\rho\\right)-1\\right],\n",
    "$$\n",
    "\n",
    "therefore,\n",
    "\n",
    "$$ \n",
    "\\hat{Q}_k=\\sum_{\\rho,\\sigma}w_{\\rho}w_{\\sigma}4\\pi C_{\\gamma}\\rho^{\\gamma+2}\\left[ e^{i\\frac{\\pi}{L}\\frac{1+e}{4}\\rho k\\cdot \\sigma}\\text{Sinc}\\left(\\frac{\\pi}{L}\\frac{1+e}{4}\\rho |k|\\right)-1\\right]\\sum_{\\substack{l,m=-\\frac{N}{2}\\\\l+m=k}}^{\\frac{N}{2}-1}\\hat{f}_l \\left[e^{-i\\frac{\\pi}{L}\\rho m \\cdot \\sigma}\\hat{f}_m\\right],\n",
    "$$\n",
    "\n",
    "or the loss term can be computed separately as\n",
    "\n",
    "$$ \n",
    "\\hat{Q}_k^-=\\sum_{\\rho,\\sigma}w_{\\rho}w_{\\sigma}4\\pi C_{\\gamma}\\rho^{\\gamma+2}\\sum_{\\substack{l,m=-\\frac{N}{2}\\\\l+m=k}}^{\\frac{N}{2}-1}\\hat{f}_l \\left[e^{-i\\frac{\\pi}{L}\\rho m \\cdot \\sigma}\\hat{f}_m\\right]=\\sum_{\\rho}w_{\\rho}16\\pi^2 C_{\\gamma}\\rho^{\\gamma+2}\\sum_{\\substack{l,m=-\\frac{N}{2}\\\\l+m=k}}^{\\frac{N}{2}-1}\\hat{f}_l \\left[\\text{Sinc}\\left(\\frac{\\pi}{L}\\rho |m|\\right)\\hat{f}_m\\right].\n",
    "$$"
   ]
  },
  {
   "cell_type": "markdown",
   "metadata": {},
   "source": [
    "## Direct method"
   ]
  },
  {
   "cell_type": "markdown",
   "metadata": {},
   "source": [
    "In 3D, and VHS case $B_{\\sigma}(|g|,\\sigma\\cdot \\hat{g})=C_{\\gamma}|g|^{\\gamma}$:\n",
    "\n",
    "$$\n",
    "\\int_{S^2}B_{\\sigma}(|g|,\\sigma\\cdot \\hat{g})\\left(e^{-i\\frac{\\pi}{L}\\frac{1+e}{4}(l+m)\\cdot (|g|\\sigma-g)}-1\\right)\\,\\mathrm{d}\\sigma=4\\pi C_{\\gamma}|g|^{\\gamma}\\bigg[ e^{i\\frac{\\pi}{L}\\frac{1+e}{4}(l+m)\\cdot g}\\text{Sinc}\\left(\\frac{\\pi}{L}\\frac{1+e}{4}\\vert l+m \\vert|g|\\right)-1\\bigg],\n",
    "$$\n",
    "\n",
    "then let $\\rho=|g|$, $\\sigma=\\hat{g}$,\n",
    "\n",
    "$$\n",
    "G(l,m)=\\sum_{\\rho}w_{\\rho}16\\pi^2 C_{\\gamma}\\rho^{\\gamma+2}\\left[\\text{Sinc}\\left(\\frac{\\pi}{L}\\left|\\frac{1+e}{4}(l+m)-m\\right|\\rho\\right)\\text{Sinc}\\left(\\frac{\\pi}{L}\\frac{1+e}{4}|l+m|\\rho\\right)-\\text{Sinc}\\left(\\frac{\\pi}{L}\\rho|m|\\right)\\right],\n",
    "$$"
   ]
  },
  {
   "cell_type": "code",
   "execution_count": 8,
   "metadata": {},
   "outputs": [
    {
     "name": "stdout",
     "output_type": "stream",
     "text": [
      "CPU times: user 321 ms, sys: 119 ms, total: 440 ms\n",
      "Wall time: 542 ms\n"
     ]
    }
   ],
   "source": [
    "%%time\n",
    "\n",
    "EPS = 1e-8\n",
    "def sinc(x):\n",
    "    return np.sin(x+EPS)/(x+EPS)\n",
    "\n",
    "# def G(kx, ky, kz, m, e):\n",
    "#     mx = 0.25*(1+e)*kx - m\n",
    "#     my = 0.25*(1+e)*ky - m\n",
    "#     mz = 0.25*(1+e)*kz - m\n",
    "#     k_m_norm = np.sqrt(mx[:,None,None]**2 + my[:,None]**2 + mz**2)\n",
    "#     m_norm = np.sqrt(m[:,None,None]**2 + m[:,None]**2 + m**2)\n",
    "#     k_norm = np.sqrt(kx**2 + ky**2 + kz**2)\n",
    "#     return 16*pi**2*np.sum(r_w*r**(gamma+2)*(sinc(pi*k_m_norm[...,None]*r/L)*sinc(pi*0.25*(1+e)*k_norm*r/L) \n",
    "#                              - sinc(pi*m_norm[...,None]*r/L)), axis = (-1))\n",
    "\n",
    "\n",
    "def G(k, m, e):\n",
    "    km = 0.25*(1+e)*k[:,None] - m\n",
    "    k_m_norm = np.sqrt(km[:,None,None,:,None,None]**2 + km[:,None,None,:,None]**2 + km[:,None,None,:]**2)\n",
    "    m_norm = np.sqrt(m[:,None,None]**2 + m[:,None]**2 + m**2)\n",
    "    k_norm = np.sqrt(k[:,None,None]**2 + k[:,None]**2 + k**2)\n",
    "    return 16*pi**2*np.sum(r_w*r**(gamma+2)*(sinc(pi*k_m_norm[...,None]*r/L)*sinc(pi*0.25*(1+e)*k_norm[...,None,None,None,None]*r/L) \n",
    "            - sinc(pi*m_norm[...,None]*r/L)), axis = (-1))\n",
    "\n",
    "x, w = np.polynomial.legendre.leggauss(N_R)\n",
    "r = 0.5*(x + 1)*R\n",
    "r_w = 0.5*R*w\n",
    "\n",
    "array_3d = pyfftw.empty_aligned((N, N, N), dtype='complex128')\n",
    "fft3 = pyfftw.builders.fftn(array_3d, overwrite_input=True,\n",
    "                                   planner_effort='FFTW_ESTIMATE', threads=8, avoid_copy=True)\n",
    "ifft3 = pyfftw.builders.ifftn(array_3d, overwrite_input=True,\n",
    "                                     planner_effort='FFTW_ESTIMATE', threads=8, avoid_copy=True)\n",
    "\n",
    "l, m = [], []\n",
    "\n",
    "for i in range(N):\n",
    "    l.append([])\n",
    "    m.append([])\n",
    "    \n",
    "N_half = int(N/2)    \n",
    "\n",
    "for i in np.arange(-N_half, N_half):\n",
    "    for j in np.arange(-N_half, N_half):\n",
    "        if i + j > N_half - 1:\n",
    "            l[i+j-N_half].append(i+N_half)\n",
    "            m[i+j-N_half].append(j+N_half)\n",
    "        elif i + j < -N_half:\n",
    "            l[i+j+3*N_half].append(i+N_half)\n",
    "            m[i+j+3*N_half].append(j+N_half)\n",
    "        else:\n",
    "            l[i+j+N_half].append(i+N_half)\n",
    "            m[i+j+N_half].append(j+N_half)\n",
    "\n",
    "# for i in np.arange(-N_half, N_half):\n",
    "#     for j in np.arange(-N_half, N_half):\n",
    "#             l[(i+j)%int(N)].append(i+N_half)\n",
    "#             m[(i+j)%int(N)].append(j+N_half)\n",
    "\n",
    "            \n",
    "\n",
    " \n",
    "    \n",
    "k = np.arange(-N/2, N/2)\n",
    "\n",
    "\n",
    "Glm = np.zeros((N, N, N, N, N, N))\n",
    "\n",
    "Glm = G(k, k, e)\n",
    "\n",
    "# for kx in range(N):\n",
    "#     for ky in range(N):\n",
    "#         for kz in range(N):\n",
    "#             Glm[kx, ky, kz] = G(k[kx], k[ky], k[kz], k, e)\n",
    "\n",
    "np.savez('Glm_e02_'+str(N), Glm=Glm, l=l, m=m)"
   ]
  },
  {
   "cell_type": "code",
   "execution_count": null,
   "metadata": {},
   "outputs": [],
   "source": [
    "np.savez('Glm_e02_32', Glm=Glm, l=l, m=m)"
   ]
  },
  {
   "cell_type": "code",
   "execution_count": null,
   "metadata": {},
   "outputs": [],
   "source": [
    "np.savez_compressed('Glm_e02_'+str(N)+'_zip', Glm=Glm, l=l, m=m)"
   ]
  },
  {
   "cell_type": "code",
   "execution_count": null,
   "metadata": {},
   "outputs": [],
   "source": [
    "%%time\n",
    "\n",
    "N = 32\n",
    "\n",
    "l, m = [], []\n",
    "\n",
    "for i in range(N):\n",
    "    l.append([])\n",
    "    m.append([])\n",
    "    \n",
    "N_half = int(N/2)    \n",
    "\n",
    "for i in np.arange(-N_half, N_half):\n",
    "    for j in np.arange(-N_half, N_half):\n",
    "        if i + j > N_half - 1:\n",
    "            l[i+j-N_half].append(i+N_half)\n",
    "            m[i+j-N_half].append(j+N_half)\n",
    "        elif i + j < -N_half:\n",
    "            l[i+j+3*N_half].append(i+N_half)\n",
    "            m[i+j+3*N_half].append(j+N_half)\n",
    "        else:\n",
    "            l[i+j+N_half].append(i+N_half)\n",
    "            m[i+j+N_half].append(j+N_half)"
   ]
  },
  {
   "cell_type": "code",
   "execution_count": null,
   "metadata": {},
   "outputs": [],
   "source": [
    "N = 64\n",
    "\n",
    "array_3d = pyfftw.empty_aligned((N, N, N), dtype='complex128')\n",
    "fft3 = pyfftw.builders.fftn(array_3d, overwrite_input=True,\n",
    "                                   planner_effort='FFTW_ESTIMATE', threads=8, avoid_copy=True)\n",
    "ifft3 = pyfftw.builders.ifftn(array_3d, overwrite_input=True,\n",
    "                                     planner_effort='FFTW_ESTIMATE', threads=8, avoid_copy=True)\n",
    "\n",
    "Glm = np.random.rand(N, N, N, N, N, N)"
   ]
  },
  {
   "cell_type": "code",
   "execution_count": 14,
   "metadata": {},
   "outputs": [
    {
     "name": "stdout",
     "output_type": "stream",
     "text": [
      "CPU times: user 23.7 s, sys: 3.14 ms, total: 23.7 s\n",
      "Wall time: 23.7 s\n"
     ]
    }
   ],
   "source": [
    "%%time\n",
    "\n",
    "l, m = [], []\n",
    "\n",
    "for i in range(N):\n",
    "    l.append([])\n",
    "    m.append([])\n",
    "    \n",
    "N_half = int(N/2)    \n",
    "\n",
    "for i in np.arange(-N_half, N_half):\n",
    "    for j in np.arange(-N_half, N_half):\n",
    "        if i + j > N_half - 1:\n",
    "            l[i+j-N_half].append(i+N_half)\n",
    "            m[i+j-N_half].append(j+N_half)\n",
    "        elif i + j < -N_half:\n",
    "            l[i+j+3*N_half].append(i+N_half)\n",
    "            m[i+j+3*N_half].append(j+N_half)\n",
    "        else:\n",
    "            l[i+j+N_half].append(i+N_half)\n",
    "            m[i+j+N_half].append(j+N_half)\n",
    "\n",
    "\n",
    "Q_hat = np.zeros((N, N, N), dtype='complex')\n",
    "\n",
    "f_hat = np.fft.fftshift(fft3(f))\n",
    "\n",
    "for kx in range(N):\n",
    "    for ky in range(N):\n",
    "        for kz in range(N):\n",
    "            g_hat = Glm[kx, ky, kz]*f_hat\n",
    "            Q_hat[kx, ky, kz] = np.sum(g_hat[np.ix_(l[kx], l[ky], l[kz])]*f_hat[np.ix_(m[kx], m[ky], m[kz])])\n",
    "            \n",
    "Q_direct = np.real(ifft3(np.fft.ifftshift(Q_hat)))/N**3/4/pi"
   ]
  },
  {
   "cell_type": "code",
   "execution_count": 10,
   "metadata": {},
   "outputs": [
    {
     "data": {
      "text/plain": [
       "0.005928745094376112"
      ]
     },
     "execution_count": 10,
     "metadata": {},
     "output_type": "execute_result"
    }
   ],
   "source": [
    "np.max(np.abs(Q_direct - extQ))"
   ]
  },
  {
   "cell_type": "code",
   "execution_count": 22,
   "metadata": {},
   "outputs": [],
   "source": [
    "#import data_profiler as profiler\n",
    "\n",
    "gamma = 0\n",
    "N = 32\n",
    "S = 3.5\n",
    "R = 2*S\n",
    "L = (3+np.sqrt(2))/2*S\n",
    "N_R = 30\n",
    "e = 1\n",
    "\n",
    "dv = 2*L/N;\n",
    "\n",
    "v = np.ogrid[-L+dv/2:L+dv/2:dv, -L+dv/2:L+dv/2:dv, -L+dv/2:L+dv/2:dv]\n",
    "\n",
    "t = 6.5\n",
    "K = 1 - np.exp(-t/6)\n",
    "dK = np.exp(-t/6)/6\n",
    "\n",
    "v_norm = v[0]**2 + v[1]**2 + v[2]**2\n",
    "f = 1/(2*(2*pi*K)**(3/2))*np.exp(-(v_norm)/(2*K))*((5*K-3)/K+(1-K)/(K**2)*(v_norm))\n",
    "# moments\n",
    "rho_0 = np.sum(f)*dv**3\n",
    "u_0_norm = (np.sum(f*v[0])*dv**3)**2 + (np.sum(f*v[1])*dv**3)**2 + (np.sum(f*v[2])*dv**3)**2\n",
    "E_0 = 0.5*np.sum(f*v_norm)*dv**3\n",
    "\n",
    "df = (-3/(2*K)+(v_norm)/(2*K**2))*f + 1/(2*(2*pi*K)**(3/2))*np.exp(-v_norm/(2*K))*(\n",
    "    3/(K**2)+(K-2)/(K**3)*v_norm)\n",
    "df = df*dK\n",
    "extQ = df"
   ]
  },
  {
   "cell_type": "code",
   "execution_count": 12,
   "metadata": {},
   "outputs": [
    {
     "data": {
      "text/plain": [
       "2.250000000000001"
      ]
     },
     "execution_count": 12,
     "metadata": {},
     "output_type": "execute_result"
    }
   ],
   "source": [
    "E_0*3/2"
   ]
  },
  {
   "cell_type": "code",
   "execution_count": 25,
   "metadata": {},
   "outputs": [
    {
     "data": {
      "text/plain": [
       "8.572934318675039e-07"
      ]
     },
     "execution_count": 25,
     "metadata": {},
     "output_type": "execute_result"
    }
   ],
   "source": [
    "np.max(np.abs(Q_1 - extQ))"
   ]
  },
  {
   "cell_type": "code",
   "execution_count": 23,
   "metadata": {},
   "outputs": [],
   "source": [
    "Q = FastSpectralCollison3D(e, gamma, L, N, R, N_R, './sphere_design/ss007.00032.txt')"
   ]
  },
  {
   "cell_type": "code",
   "execution_count": 24,
   "metadata": {},
   "outputs": [
    {
     "name": "stdout",
     "output_type": "stream",
     "text": [
      "CPU times: user 2.68 s, sys: 575 ms, total: 3.25 s\n",
      "Wall time: 1.47 s\n"
     ]
    }
   ],
   "source": [
    "#%%capture N_128\n",
    "%time Q_1 = Q.col_sep(f)/(4*pi)\n",
    "# %time Q_2 = Q.col_full(f)/(4*pi)"
   ]
  },
  {
   "cell_type": "code",
   "execution_count": null,
   "metadata": {},
   "outputs": [],
   "source": [
    "N_128.show()"
   ]
  },
  {
   "cell_type": "code",
   "execution_count": 3,
   "metadata": {},
   "outputs": [],
   "source": [
    "def plot_time(N, cost1, cost2, name):\n",
    "    fig, ax = plt.subplots()\n",
    "    ax.loglog(N, cost1, 'o-', label='Computation time$')\n",
    "    ax.loglog(N, cost2, label='reference: 3-order')\n",
    "    ax.set_xlabel('$N$')\n",
    "    ax.set_ylabel('Time')\n",
    "    ax.set_title('Convergence of RK3 in $\\Delta t$')\n",
    "    ax.legend(fontsize='large')\n",
    "    ax.grid(which='both',linestyle=':')\n",
    "#     plt.savefig(name)\n",
    "    plt.show()"
   ]
  },
  {
   "cell_type": "code",
   "execution_count": 30,
   "metadata": {},
   "outputs": [
    {
     "data": {
      "image/png": "[encoded data removed]",
      "text/plain": [
       "<matplotlib.figure.Figure at 0x7f8e5aa90b00>"
      ]
     },
     "metadata": {},
     "output_type": "display_data"
    }
   ],
   "source": [
    "fig, ax = plt.subplots()\n",
    "ax.loglog(N, cost_direct, 'o-', label='Direct method')\n",
    "ax.loglog(N_fast, cost_fast, '*-', label='Fast method')\n",
    "ax.set_xlabel('$N$')\n",
    "ax.set_ylabel('Time (s)')\n",
    "ax.set_title('CPU time')\n",
    "ax.legend(fontsize='large')\n",
    "ax.grid(which='both',linestyle=':')\n",
    "plt.savefig('CPU time.pdf')\n",
    "plt.show()"
   ]
  },
  {
   "cell_type": "markdown",
   "metadata": {},
   "source": [
    "$e=0.2$, Spherical design number $= 32$\n",
    "\n",
    "| N | Direct method | Fast method |\n",
    "| ------ | ------ | ------ |\n",
    "| 8 | 32.2ms | 17.6ms |\n",
    "| 16 | 602ms | 140ms |\n",
    "| 32 | 23.7s | 1.18s|\n",
    "| 64 | -- | 9.7s |"
   ]
  },
  {
   "cell_type": "code",
   "execution_count": 22,
   "metadata": {},
   "outputs": [
    {
     "data": {
      "text/plain": [
       "[<matplotlib.lines.Line2D at 0x7f8e5fb0c668>]"
      ]
     },
     "execution_count": 22,
     "metadata": {},
     "output_type": "execute_result"
    },
    {
     "data": {
      "image/png": "[encoded data removed]",
      "text/plain": [
       "<matplotlib.figure.Figure at 0x7f8e5ad13fd0>"
      ]
     },
     "metadata": {},
     "output_type": "display_data"
    }
   ],
   "source": [
    "N = [8, 16, 32]\n",
    "cost_direct = [32.2e-3, 6.02e-1, 23.7]\n",
    "fig, ax = plt.subplots()\n",
    "ax.loglog(N, cost_direct, 'o-', label='Computation time$')\n",
    "ax.loglog(N_fast, cost_fast, 'x-', label='Computation time$')"
   ]
  },
  {
   "cell_type": "code",
   "execution_count": 21,
   "metadata": {},
   "outputs": [
    {
     "data": {
      "text/plain": [
       "[<matplotlib.lines.Line2D at 0x7f8e5ac8d978>]"
      ]
     },
     "execution_count": 21,
     "metadata": {},
     "output_type": "execute_result"
    },
    {
     "data": {
      "image/png": "[encoded data removed]",
      "text/plain": [
       "<matplotlib.figure.Figure at 0x7f8e5acad240>"
      ]
     },
     "metadata": {},
     "output_type": "display_data"
    }
   ],
   "source": [
    "N_fast = [8, 16, 32, 64]\n",
    "cost_fast = [17.6e-3, 1.40e-1, 1.18, 9.7]\n",
    "fig, ax = plt.subplots()\n",
    "ax.loglog(N_fast, cost_fast, 'o-', label='Computation time$')"
   ]
  },
  {
   "cell_type": "code",
   "execution_count": null,
   "metadata": {},
   "outputs": [],
   "source": [
    "# 6, 223ms\n",
    "np.max(np.abs(Q_direct - Q_1))"
   ]
  },
  {
   "cell_type": "code",
   "execution_count": null,
   "metadata": {},
   "outputs": [],
   "source": [
    "# 12, 458ms\n",
    "np.max(np.abs(Q_direct - Q_1))"
   ]
  },
  {
   "cell_type": "code",
   "execution_count": null,
   "metadata": {},
   "outputs": [],
   "source": [
    "# 32, 1.22s\n",
    "np.max(np.abs(Q_1 - Q_direct))"
   ]
  },
  {
   "cell_type": "code",
   "execution_count": null,
   "metadata": {},
   "outputs": [],
   "source": [
    "# 48, 1.79s\n",
    "np.max(np.abs(Q_1 - Q_direct))"
   ]
  },
  {
   "cell_type": "code",
   "execution_count": null,
   "metadata": {},
   "outputs": [],
   "source": [
    "# 70, 2.5s\n",
    "np.max(np.abs(Q_1 - Q_direct))"
   ]
  },
  {
   "cell_type": "code",
   "execution_count": null,
   "metadata": {},
   "outputs": [],
   "source": [
    "# 94, 3.38s\n",
    "np.max(np.abs(Q_1 - Q_direct))"
   ]
  },
  {
   "cell_type": "code",
   "execution_count": null,
   "metadata": {},
   "outputs": [],
   "source": [
    "# 120, 4.43s\n",
    "np.max(np.abs(Q_1 - Q_direct))"
   ]
  },
  {
   "cell_type": "markdown",
   "metadata": {},
   "source": [
    "$e=0.2$, $N=32$\n",
    "\n",
    "| Spherical Design | Error |\n",
    "| ------ | ------ |\n",
    "| 6 | 0.00041820767783433107 | \n",
    "| 12 | 3.1726851245650724e-05 |\n",
    "| 32 | 6.5752814213618921e-07 |\n",
    "| 48 | 5.6132233266191489e-07 |\n",
    "| 70 | 2.6714628356683257e-07 |\n",
    "| 94 | 1.0508293902503248e-07 |\n",
    "| 120 | 2.8872928147741922e-08 | "
   ]
  },
  {
   "cell_type": "code",
   "execution_count": 59,
   "metadata": {},
   "outputs": [
    {
     "name": "stdout",
     "output_type": "stream",
     "text": [
      "CPU times: user 29min 30s, sys: 4min 45s, total: 34min 15s\n",
      "Wall time: 16min 52s\n"
     ]
    }
   ],
   "source": [
    "%%time\n",
    "dt = 0.01\n",
    "eps = 0\n",
    "\n",
    "Q = FastSpectralCollison3D(e, 1, L, N, R, N_R, 'ss007.00032.txt')\n",
    "\n",
    "f_hat = []\n",
    "\n",
    "f = Q.fft3(f).copy()\n",
    "for t in range(300):\n",
    "    f = RK3(f, Q.col_heat_sep, eps, dt)\n",
    "    f_hat.append(f)\n",
    "    \n",
    "f = np.real(Q.ifft3(f))\n",
    "E = 0.5*np.sum(f*v_norm)*dv**3"
   ]
  },
  {
   "cell_type": "code",
   "execution_count": 44,
   "metadata": {},
   "outputs": [
    {
     "name": "stdout",
     "output_type": "stream",
     "text": [
      "CPU times: user 273 ms, sys: 31.1 ms, total: 304 ms\n",
      "Wall time: 126 ms\n"
     ]
    }
   ],
   "source": [
    "%%time\n",
    "T_vhs = []\n",
    "for t in range(300):\n",
    "    f = np.real(Q.ifft3(f_hat[t]))\n",
    "    T_vhs.append(0.5*np.sum(f*v_norm)*dv**3*2/3)"
   ]
  },
  {
   "cell_type": "code",
   "execution_count": 60,
   "metadata": {},
   "outputs": [
    {
     "name": "stdout",
     "output_type": "stream",
     "text": [
      "CPU times: user 266 ms, sys: 28.8 ms, total: 294 ms\n",
      "Wall time: 117 ms\n"
     ]
    }
   ],
   "source": [
    "%%time\n",
    "T_vhs_02 = []\n",
    "for t in range(300):\n",
    "    f = np.real(Q.ifft3(f_hat[t]))\n",
    "    T_vhs_02.append(0.5*np.sum(f*v_norm)*dv**3*2/3)"
   ]
  },
  {
   "cell_type": "code",
   "execution_count": 74,
   "metadata": {},
   "outputs": [
    {
     "data": {
      "image/png": "[encoded data removed]",
      "text/plain": [
       "<Figure size 432x288 with 1 Axes>"
      ]
     },
     "metadata": {},
     "output_type": "display_data"
    }
   ],
   "source": [
    "t = (np.arange(300)/100)\n",
    "\n",
    "fig, ax = plt.subplots()\n",
    "ax.plot(t, np.asarray(T_vhs), '--', label=r'$T_{num}$ with $e=0.8$')\n",
    "ax.plot(t, 1/(1+0.135*t)**2, label=r'$\\frac{1}{(1+0.135t)^2}$')\n",
    "ax.plot(t, np.asarray(T_vhs_02), '-.', label=r'$T_{num}$ with $e=0.2$')\n",
    "ax.plot(t, 1/(1+0.36*t)**2, label=r'$\\frac{1}{(1+0.36t)^2}$')\n",
    "ax.set_xlabel('$t$')\n",
    "ax.set_ylabel('$T$')\n",
    "ax.set_title('Haff\\'s cooling law')\n",
    "ax.legend(fontsize='large')\n",
    "ax.grid(which='both',linestyle=':')\n",
    "plt.savefig('Haff\\'s_cooling.pdf')\n",
    "plt.show()\n",
    "\n",
    "# plt.plot(t, np.asarray(T_vhs), '--', t, 2.25/(1+0.36*t)**2)"
   ]
  },
  {
   "cell_type": "code",
   "execution_count": null,
   "metadata": {
    "collapsed": true
   },
   "outputs": [],
   "source": [
    "def T(t, e, eps, T_0):\n",
    "    return (T_0 - 8*eps/(1-e**2))*np.exp(-(1-e**2)*t/4) + 8*eps/(1-e**2)"
   ]
  },
  {
   "cell_type": "code",
   "execution_count": null,
   "metadata": {},
   "outputs": [],
   "source": [
    "# e=0.2, 003\n",
    "T(1, e, eps, E_0*3/2) - E*3/2"
   ]
  },
  {
   "cell_type": "code",
   "execution_count": null,
   "metadata": {},
   "outputs": [],
   "source": [
    "# e=0.2, 005\n",
    "T(1, e, eps, E_0*3/2) - E*3/2"
   ]
  },
  {
   "cell_type": "code",
   "execution_count": null,
   "metadata": {},
   "outputs": [],
   "source": [
    "# e=0.2, 007\n",
    "T(1, e, eps, E_0*3/2) - E*3/2"
   ]
  },
  {
   "cell_type": "code",
   "execution_count": null,
   "metadata": {},
   "outputs": [],
   "source": [
    "# e=0.2, 009\n",
    "T(1, e, eps, E_0*3/2) - E*3/2"
   ]
  },
  {
   "cell_type": "code",
   "execution_count": null,
   "metadata": {},
   "outputs": [],
   "source": [
    "# e=0.2, 011\n",
    "T(1, e, eps, E_0*3/2) - E*3/2"
   ]
  },
  {
   "cell_type": "code",
   "execution_count": null,
   "metadata": {},
   "outputs": [],
   "source": [
    "# e=0.2, 013\n",
    "T(1, e, eps, E_0*3/2) - E*3/2"
   ]
  },
  {
   "cell_type": "code",
   "execution_count": null,
   "metadata": {},
   "outputs": [],
   "source": [
    "# e=0.2, 015\n",
    "T(1, e, eps, E_0*3/2) - E*3/2"
   ]
  },
  {
   "cell_type": "markdown",
   "metadata": {},
   "source": [
    "$T = 1$, $\\Delta t = 0.01$\n",
    "\n",
    "| Spherical Design | 0.2 |\n",
    "| ------ | ------ |\n",
    "| 6 | 0.0013957739849754791 | \n",
    "| 12 | 9.9706271716293315e-05 |\n",
    "| 32 | 2.2499901350947482e-06 |\n",
    "| 48 | 2.4272557155313734e-06 |\n",
    "| 70 | 2.4703481364962698e-06 |\n",
    "| 94 | 2.4703481364962698e-06 |\n",
    "| 120 | 2.453380453903975e-06 | "
   ]
  }
 ],
 "metadata": {
  "kernelspec": {
   "display_name": "Python 3",
   "language": "python",
   "name": "python3"
  },
  "language_info": {
   "codemirror_mode": {
    "name": "ipython",
    "version": 3
   },
   "file_extension": ".py",
   "mimetype": "text/x-python",
   "name": "python",
   "nbconvert_exporter": "python",
   "pygments_lexer": "ipython3",
   "version": "3.6.5"
  }
 },
 "nbformat": 4,
 "nbformat_minor": 2
}
