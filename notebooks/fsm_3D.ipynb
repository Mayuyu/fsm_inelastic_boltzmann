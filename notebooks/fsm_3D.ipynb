{
 "cells": [
  {
   "cell_type": "markdown",
   "metadata": {},
   "source": [
    "# The fast spectral method"
   ]
  },
  {
   "cell_type": "markdown",
   "metadata": {},
   "source": [
    "By choosing the test function $\\phi(v) = e^{-i\\frac{\\pi}{L} k\\cdot v}$ in the weak form, we can obtain the Fourier expansion of $Q$:\n",
    "\n",
    "$$\\hat{Q}_k= \\sum_{\\substack{l,m=-\\frac{N}{2}\\\\l+m=k}}^{\\frac{N}{2}-1} G(l,m) \\hat{f}_l \\hat{f}_m\\,,$$\n",
    "\n",
    "where the weight $G(l,m)$ is given by\n",
    "\n",
    "$$\n",
    "G(l,m)=\\int_{\\mathbb{R}^d}e^{-i\\frac{\\pi}{L}m \\cdot g}\\bigg[\\int_{S^{d-1}}B_{\\sigma}(\\lvert g\\rvert,\\sigma\\cdot \\hat{g})\\left(e^{-i\\frac{\\pi}{L}\\frac{1+e}{4}(l+m)\\cdot (|g|\\sigma-g)}-1\\right)\\,\\mathrm{d}{\\sigma}\\bigg]\\,\\mathrm{d}{g} \\,,\n",
    "$$\n",
    "\n",
    "where $g$ needs to be truncated properly as was done for the elastic case. \n",
    "\n",
    "The idea of the fast algorithm is to separate the weight $G$ as $G(l,m)\\approx\\sum_{t=1}^T\\alpha_t(l+m)\\beta_t(m)$ using quadrature rules."
   ]
  },
  {
   "cell_type": "code",
   "execution_count": 1,
   "metadata": {
    "collapsed": true
   },
   "outputs": [],
   "source": [
    "%matplotlib inline\n",
    "import numpy as np\n",
    "from math import pi\n",
    "from scipy import special\n",
    "import matplotlib.pyplot as plt\n",
    "import pyfftw\n",
    "\n",
    "import sys\n",
    "sys.path.append('../src')\n",
    "from fast_spec_col_3d import FastSpectralCollison3D\n",
    "from direct_col_3d import DirectCol3D\n",
    "from utility import get_config, RK3"
   ]
  },
  {
   "cell_type": "markdown",
   "metadata": {},
   "source": [
    "## 3D case"
   ]
  },
  {
   "cell_type": "markdown",
   "metadata": {},
   "source": [
    "In 3D, and VHS case $B_{\\sigma}(|g|,\\sigma\\cdot \\hat{g})=C_{\\gamma}|g|^{\\gamma}$:\n",
    "\n",
    "$$\n",
    "\\int_{S^2}B_{\\sigma}(|g|,\\sigma\\cdot \\hat{g})\\left(e^{-i\\frac{\\pi}{L}\\frac{1+e}{4}(l+m)\\cdot (|g|\\sigma-g)}-1\\right)\\,\\mathrm{d}\\sigma=4\\pi C_{\\gamma}|g|^{\\gamma}\\bigg[ e^{i\\frac{\\pi}{L}\\frac{1+e}{4}(l+m)\\cdot g}\\text{Sinc}\\left(\\frac{\\pi}{L}\\frac{1+e}{4}\\vert l+m \\vert|g|\\right)-1\\bigg],\n",
    "$$\n",
    "\n",
    "then let $\\rho=|g|$, $\\sigma=\\hat{g}$,\n",
    "\n",
    "$$\n",
    "G(l,m)=\\sum_{\\rho,\\sigma}w_{\\rho}w_{\\sigma}4\\pi C_{\\gamma}\\rho^{\\gamma+2}e^{-i\\frac{\\pi}{L}\\rho m \\cdot \\sigma}\\left[ e^{i\\frac{\\pi}{L}\\frac{1+e}{4}\\rho (l+m)\\cdot \\sigma}\\text{Sinc}\\left(\\frac{\\pi}{L}\\frac{1+e}{4}|l+m|\\rho\\right)-1\\right],\n",
    "$$\n",
    "\n",
    "therefore,\n",
    "\n",
    "$$ \n",
    "\\hat{Q}_k=\\sum_{\\rho,\\sigma}w_{\\rho}w_{\\sigma}4\\pi C_{\\gamma}\\rho^{\\gamma+2}\\left[ e^{i\\frac{\\pi}{L}\\frac{1+e}{4}\\rho k\\cdot \\sigma}\\text{Sinc}\\left(\\frac{\\pi}{L}\\frac{1+e}{4}\\rho |k|\\right)-1\\right]\\sum_{\\substack{l,m=-\\frac{N}{2}\\\\l+m=k}}^{\\frac{N}{2}-1}\\hat{f}_l \\left[e^{-i\\frac{\\pi}{L}\\rho m \\cdot \\sigma}\\hat{f}_m\\right],\n",
    "$$\n",
    "\n",
    "or the loss term can be computed separately as\n",
    "\n",
    "$$ \n",
    "\\hat{Q}_k^-=\\sum_{\\rho,\\sigma}w_{\\rho}w_{\\sigma}4\\pi C_{\\gamma}\\rho^{\\gamma+2}\\sum_{\\substack{l,m=-\\frac{N}{2}\\\\l+m=k}}^{\\frac{N}{2}-1}\\hat{f}_l \\left[e^{-i\\frac{\\pi}{L}\\rho m \\cdot \\sigma}\\hat{f}_m\\right]=\\sum_{\\rho}w_{\\rho}16\\pi^2 C_{\\gamma}\\rho^{\\gamma+2}\\sum_{\\substack{l,m=-\\frac{N}{2}\\\\l+m=k}}^{\\frac{N}{2}-1}\\hat{f}_l \\left[\\text{Sinc}\\left(\\frac{\\pi}{L}\\rho |m|\\right)\\hat{f}_m\\right].\n",
    "$$"
   ]
  },
  {
   "cell_type": "markdown",
   "metadata": {},
   "source": [
    "## Direct method"
   ]
  },
  {
   "cell_type": "markdown",
   "metadata": {},
   "source": [
    "In 3D, and VHS case $B_{\\sigma}(|g|,\\sigma\\cdot \\hat{g})=C_{\\gamma}|g|^{\\gamma}$:\n",
    "\n",
    "$$\n",
    "\\int_{S^2}B_{\\sigma}(|g|,\\sigma\\cdot \\hat{g})\\left(e^{-i\\frac{\\pi}{L}\\frac{1+e}{4}(l+m)\\cdot (|g|\\sigma-g)}-1\\right)\\,\\mathrm{d}\\sigma=4\\pi C_{\\gamma}|g|^{\\gamma}\\bigg[ e^{i\\frac{\\pi}{L}\\frac{1+e}{4}(l+m)\\cdot g}\\text{Sinc}\\left(\\frac{\\pi}{L}\\frac{1+e}{4}\\vert l+m \\vert|g|\\right)-1\\bigg],\n",
    "$$\n",
    "\n",
    "then let $\\rho=|g|$, $\\sigma=\\hat{g}$,\n",
    "\n",
    "$$\n",
    "G(l,m)=\\sum_{\\rho}w_{\\rho}16\\pi^2 C_{\\gamma}\\rho^{\\gamma+2}\\left[\\text{Sinc}\\left(\\frac{\\pi}{L}\\left|\\frac{1+e}{4}(l+m)-m\\right|\\rho\\right)\\text{Sinc}\\left(\\frac{\\pi}{L}\\frac{1+e}{4}|l+m|\\rho\\right)-\\text{Sinc}\\left(\\frac{\\pi}{L}\\rho|m|\\right)\\right],\n",
    "$$"
   ]
  },
  {
   "cell_type": "markdown",
   "metadata": {},
   "source": [
    "# Fast Spectral Method"
   ]
  },
  {
   "cell_type": "code",
   "execution_count": 135,
   "metadata": {},
   "outputs": [],
   "source": [
    "def isotropic_f(v):\n",
    "    t = 6.5\n",
    "    K = 1 - np.exp(-t/6)\n",
    "    v_norm = v[:,None,None]**2 + v[:,None]**2 + v**2\n",
    "    return 1/(2*(2*pi*K)**(3/2))*np.exp(-(v_norm)/(2*K))*((5*K-3)/K+(1-K)/(K**2)*(v_norm))\n",
    "\n",
    "def extQ(v):\n",
    "    t = 6.5\n",
    "    K = 1 - np.exp(-t/6)\n",
    "    dK = np.exp(-t/6)/6\n",
    "    v_norm = v[:,None,None]**2 + v[:,None]**2 + v**2\n",
    "    df = (-3/(2*K)+(v_norm)/(2*K**2))*f + 1/(2*(2*pi*K)**(3/2))*np.exp(-v_norm/(2*K))*(\n",
    "    3/(K**2)+(K-2)/(K**3)*v_norm)\n",
    "    return df*dK\n",
    "\n",
    "def anisotropic_f(v):\n",
    "    return 0.8*pi**(-1.5)*(np.exp(-16**(1/3)*((v-2)[:,None,None]**2 + (v-2)[:,None]**2 + (v-2)**2)) \n",
    "                           + np.exp(-(v+0.5)[:,None,None]**2-(v+0.5)[:,None]**2 - (v+0.5)**2))\n",
    "\n",
    "def maxwellian(v, rho, u, T):\n",
    "    v_u = ((v - u[0])**2)[:,None,None] + ((v - u[1])**2)[:,None] + (v - u[2])**2\n",
    "    return rho/(2*pi*T)**(3/2)*np.exp(-v_u/(2*T))"
   ]
  },
  {
   "cell_type": "code",
   "execution_count": 3,
   "metadata": {},
   "outputs": [],
   "source": [
    "config_3D = get_config('../src/configs/config_3D.json')\n",
    "\n",
    "Q_direct = DirectCol3D(config_3D)\n",
    "# Q_direct.save_Glm('../data/Glm_02_32')\n",
    "Q_direct.get_Glm_from_file('../data/Glm_e02_32_zip.npz')"
   ]
  },
  {
   "cell_type": "code",
   "execution_count": 4,
   "metadata": {},
   "outputs": [
    {
     "name": "stdout",
     "output_type": "stream",
     "text": [
      "CPU times: user 25.2 s, sys: 936 ms, total: 26.1 s\n",
      "Wall time: 26.2 s\n"
     ]
    }
   ],
   "source": [
    "%time Q_direct_col = Q_direct.col(anisotropic_f(Q_direct.v))/(4*pi)"
   ]
  },
  {
   "cell_type": "code",
   "execution_count": 21,
   "metadata": {},
   "outputs": [],
   "source": [
    "config_3D = get_config('../src/configs/config_3D.json')\n",
    "Q = FastSpectralCollison3D(config_3D)"
   ]
  },
  {
   "cell_type": "code",
   "execution_count": 22,
   "metadata": {},
   "outputs": [
    {
     "name": "stdout",
     "output_type": "stream",
     "text": [
      "CPU times: user 10.8 s, sys: 2.96 s, total: 13.7 s\n",
      "Wall time: 6.36 s\n"
     ]
    },
    {
     "data": {
      "text/plain": [
       "3.747408101774895e-05"
      ]
     },
     "execution_count": 22,
     "metadata": {},
     "output_type": "execute_result"
    }
   ],
   "source": [
    "%time Q_sep = Q.col_sep(anisotropic_f(Q.v))/(4*pi)\n",
    "np.max(np.abs(Q_sep - Q_direct_col))"
   ]
  },
  {
   "cell_type": "markdown",
   "metadata": {},
   "source": [
    "$e=0.2$, $N=32$ with anisotropic initial\n",
    "\n",
    "| Spherical Design | Error | time |\n",
    "| ------ | ------ | ------- |\n",
    "| 6 | 1.4674566108660258e-02 | 275ms |\n",
    "| 12 | 9.532325835757156e-03 | 510ms |\n",
    "| 32 | 5.92707599850977e-03 | 1.07s |\n",
    "| 48 | 1.952601851310574e-03 | 1.61s |\n",
    "| 70 | 1.43696494086e-03 | 2.74s |\n",
    "| 94 | 4.354500695785647e-04 | 3.65s |\n",
    "| 120 | 3.534377201557734e-04 | 3.98s |\n",
    "| 156 | 9.811152052724729e-05 | 6.35s |\n",
    "| 192 | 3.747408101774895e-05 | 6.36s |"
   ]
  },
  {
   "cell_type": "code",
   "execution_count": 91,
   "metadata": {},
   "outputs": [],
   "source": [
    "config_3D = get_config('../src/configs/config_3D.json')\n",
    "Q_gauss = FastSpectralCollison3D(config_3D)"
   ]
  },
  {
   "cell_type": "code",
   "execution_count": 92,
   "metadata": {},
   "outputs": [
    {
     "name": "stdout",
     "output_type": "stream",
     "text": [
      "CPU times: user 11.8 s, sys: 3.06 s, total: 14.8 s\n",
      "Wall time: 7.03 s\n"
     ]
    },
    {
     "data": {
      "text/plain": [
       "0.0012310868626689182"
      ]
     },
     "execution_count": 92,
     "metadata": {},
     "output_type": "execute_result"
    }
   ],
   "source": [
    "%time Q_gauss_sep = Q_gauss.col_sep(anisotropic_f(Q_gauss.v))/(4*pi)\n",
    "np.max(np.abs(Q_gauss_sep - Q_direct_col))"
   ]
  },
  {
   "cell_type": "markdown",
   "metadata": {},
   "source": [
    "$e=0.2$, $N=32$ with anisotropic initial using gauss quadrature\n",
    "\n",
    "| # of ($\\theta$, $\\phi$) | Error | time |\n",
    "| ------ | ------ | ------- |\n",
    "| (2,3) | 9.301850859331023e-03 | 253s |\n",
    "| (3,4) | 1.4164542178285952e-02 | 494ms |\n",
    "| (4,8) | 2.148725985732372e-02 | 1.08s |\n",
    "| (6,8) | 3.952940827407407e-03 | 1.6s |\n",
    "| (7,10) | 3.3540095954422665e-03 | 2.98s |\n",
    "| (10,10) | 3.405850043869026e-03 | 4.15s |\n",
    "| (10,12) | 3.016912442998702e-03 | 4.56s |\n",
    "| (11,15) | 1.227818352872178e-03 | 6.86s |\n",
    "| (12,16) | 1.2310868626689182e-03 | 7.03s |"
   ]
  },
  {
   "cell_type": "code",
   "execution_count": 3,
   "metadata": {},
   "outputs": [],
   "source": [
    "def plot_time(N, cost1, cost2, name):\n",
    "    fig, ax = plt.subplots()\n",
    "    ax.loglog(N, cost1, 'o-', label='Computation time$')\n",
    "    ax.loglog(N, cost2, label='reference: 3-order')\n",
    "    ax.set_xlabel('$N$')\n",
    "    ax.set_ylabel('Time')\n",
    "    ax.set_title('Convergence of RK3 in $\\Delta t$')\n",
    "    ax.legend(fontsize='large')\n",
    "    ax.grid(which='both',linestyle=':')\n",
    "#     plt.savefig(name)\n",
    "    plt.show()"
   ]
  },
  {
   "cell_type": "code",
   "execution_count": 30,
   "metadata": {},
   "outputs": [
    {
     "data": {
      "image/png": "[encoded data removed]",
      "text/plain": [
       "<matplotlib.figure.Figure at 0x7f8e5aa90b00>"
      ]
     },
     "metadata": {},
     "output_type": "display_data"
    }
   ],
   "source": [
    "fig, ax = plt.subplots()\n",
    "ax.loglog(N, cost_direct, 'o-', label='Direct method')\n",
    "ax.loglog(N_fast, cost_fast, '*-', label='Fast method')\n",
    "ax.set_xlabel('$N$')\n",
    "ax.set_ylabel('Time (s)')\n",
    "ax.set_title('CPU time')\n",
    "ax.legend(fontsize='large')\n",
    "ax.grid(which='both',linestyle=':')\n",
    "plt.savefig('CPU time.pdf')\n",
    "plt.show()"
   ]
  },
  {
   "cell_type": "markdown",
   "metadata": {},
   "source": [
    "$e=0.2$, Spherical design number $= 32$\n",
    "\n",
    "| N | Direct method | Fast method |\n",
    "| ------ | ------ | ------ |\n",
    "| 8 | 32.2ms | 17.6ms |\n",
    "| 16 | 602ms | 140ms |\n",
    "| 32 | 23.7s | 1.18s|\n",
    "| 64 | -- | 9.7s |"
   ]
  },
  {
   "cell_type": "code",
   "execution_count": 22,
   "metadata": {},
   "outputs": [
    {
     "data": {
      "text/plain": [
       "[<matplotlib.lines.Line2D at 0x7f8e5fb0c668>]"
      ]
     },
     "execution_count": 22,
     "metadata": {},
     "output_type": "execute_result"
    },
    {
     "data": {
      "image/png": "[encoded data removed]",
      "text/plain": [
       "<matplotlib.figure.Figure at 0x7f8e5ad13fd0>"
      ]
     },
     "metadata": {},
     "output_type": "display_data"
    }
   ],
   "source": [
    "N = [8, 16, 32]\n",
    "cost_direct = [32.2e-3, 6.02e-1, 23.7]\n",
    "fig, ax = plt.subplots()\n",
    "ax.loglog(N, cost_direct, 'o-', label='Computation time$')\n",
    "ax.loglog(N_fast, cost_fast, 'x-', label='Computation time$')"
   ]
  },
  {
   "cell_type": "code",
   "execution_count": 21,
   "metadata": {},
   "outputs": [
    {
     "data": {
      "text/plain": [
       "[<matplotlib.lines.Line2D at 0x7f8e5ac8d978>]"
      ]
     },
     "execution_count": 21,
     "metadata": {},
     "output_type": "execute_result"
    },
    {
     "data": {
      "image/png": "[encoded data removed]",
      "text/plain": [
       "<matplotlib.figure.Figure at 0x7f8e5acad240>"
      ]
     },
     "metadata": {},
     "output_type": "display_data"
    }
   ],
   "source": [
    "N_fast = [8, 16, 32, 64]\n",
    "cost_fast = [17.6e-3, 1.40e-1, 1.18, 9.7]\n",
    "fig, ax = plt.subplots()\n",
    "ax.loglog(N_fast, cost_fast, 'o-', label='Computation time$')"
   ]
  },
  {
   "cell_type": "code",
   "execution_count": null,
   "metadata": {},
   "outputs": [],
   "source": [
    "# 6, 223ms\n",
    "np.max(np.abs(Q_direct - Q_1))"
   ]
  },
  {
   "cell_type": "code",
   "execution_count": null,
   "metadata": {},
   "outputs": [],
   "source": [
    "# 12, 458ms\n",
    "np.max(np.abs(Q_direct - Q_1))"
   ]
  },
  {
   "cell_type": "code",
   "execution_count": null,
   "metadata": {},
   "outputs": [],
   "source": [
    "# 32, 1.22s\n",
    "np.max(np.abs(Q_1 - Q_direct))"
   ]
  },
  {
   "cell_type": "code",
   "execution_count": null,
   "metadata": {},
   "outputs": [],
   "source": [
    "# 48, 1.79s\n",
    "np.max(np.abs(Q_1 - Q_direct))"
   ]
  },
  {
   "cell_type": "code",
   "execution_count": null,
   "metadata": {},
   "outputs": [],
   "source": [
    "# 70, 2.5s\n",
    "np.max(np.abs(Q_1 - Q_direct))"
   ]
  },
  {
   "cell_type": "code",
   "execution_count": null,
   "metadata": {},
   "outputs": [],
   "source": [
    "# 94, 3.38s\n",
    "np.max(np.abs(Q_1 - Q_direct))"
   ]
  },
  {
   "cell_type": "code",
   "execution_count": null,
   "metadata": {},
   "outputs": [],
   "source": [
    "# 120, 4.43s\n",
    "np.max(np.abs(Q_1 - Q_direct))"
   ]
  },
  {
   "cell_type": "markdown",
   "metadata": {},
   "source": [
    "$e=0.2$, $N=32$ with isotropic initial\n",
    "\n",
    "| Spherical Design | Error |\n",
    "| ------ | ------ |\n",
    "| 6 | 0.00041820767783433107 | \n",
    "| 12 | 3.1726851245650724e-05 |\n",
    "| 32 | 6.5752814213618921e-07 |\n",
    "| 48 | 5.6132233266191489e-07 |\n",
    "| 70 | 2.6714628356683257e-07 |\n",
    "| 94 | 1.0508293902503248e-07 |\n",
    "| 120 | 2.8872928147741922e-08 | "
   ]
  },
  {
   "cell_type": "markdown",
   "metadata": {},
   "source": [
    "We also have $\\rho_0 = 1$, $u_0 = 0$, $E = T$. Temperature $T$ safisfies:\n",
    "\n",
    "$$\n",
    "T=\\left(T_0-\\frac{8\\varepsilon}{1-e^2}\\right)\\exp{\\left(-\\frac{1-e^2}{4}t\\right)}+\\frac{8\\varepsilon}{1-e^2}.\n",
    "$$"
   ]
  },
  {
   "cell_type": "code",
   "execution_count": 94,
   "metadata": {},
   "outputs": [],
   "source": [
    "def T(t, e, eps, T_0):\n",
    "    return (T_0 - 8*eps/(1-e**2))*np.exp(-(1-e**2)*t/4) + 8*eps/(1-e**2)"
   ]
  },
  {
   "cell_type": "code",
   "execution_count": 142,
   "metadata": {},
   "outputs": [],
   "source": [
    "M = lambda v: maxwellian(v, 1, (0.5, -0.5, 0), 2)"
   ]
  },
  {
   "cell_type": "code",
   "execution_count": null,
   "metadata": {},
   "outputs": [],
   "source": [
    "%%time\n",
    "\n",
    "dt = 0.01\n",
    "eps = 0\n",
    "\n",
    "config_3D = get_config('../src/configs/config_3D.json')\n",
    "Q = FastSpectralCollison3D(config_3D)\n",
    "\n",
    "f_hat = []\n",
    "\n",
    "f_0 = M(Q.v)\n",
    "E_0 = 0.5*np.sum(f_0*Q.v_norm)*Q.dv**3\n",
    "f = Q.fft3(f_0).copy()\n",
    "\n",
    "for t in range(300):\n",
    "    f = RK3(f, Q.col_heat_sep, eps, dt)\n",
    "    f_hat.append(f)\n",
    "    \n",
    "f = np.real(Q.ifft3(f))\n",
    "E = 0.5*np.sum(f*Q.v_norm)*Q.dv**3"
   ]
  },
  {
   "cell_type": "code",
   "execution_count": 28,
   "metadata": {},
   "outputs": [
    {
     "data": {
      "text/plain": [
       "(0.9999999965144858, -2.708634755624087e-18, 2.166666564305162)"
      ]
     },
     "execution_count": 28,
     "metadata": {},
     "output_type": "execute_result"
    }
   ],
   "source": [
    "np.sum(f_0)*Q.dv**3, np.sum(f_0*Q.v)*Q.dv**3, np.sum(f_0*Q.v_norm)*Q.dv**3/3"
   ]
  },
  {
   "cell_type": "code",
   "execution_count": 133,
   "metadata": {},
   "outputs": [
    {
     "data": {
      "text/plain": [
       "-0.000396517639616345"
      ]
     },
     "execution_count": 133,
     "metadata": {},
     "output_type": "execute_result"
    }
   ],
   "source": [
    "T(1.0, 0.2, eps, E_0*2/3) - E*2/3"
   ]
  },
  {
   "cell_type": "code",
   "execution_count": 7,
   "metadata": {},
   "outputs": [
    {
     "name": "stdout",
     "output_type": "stream",
     "text": [
      "CPU times: user 257 ms, sys: 38.5 ms, total: 296 ms\n",
      "Wall time: 118 ms\n"
     ]
    }
   ],
   "source": [
    "%%time\n",
    "T_vhs = []\n",
    "for t in range(300):\n",
    "    f = np.real(Q.ifft3(f_hat[t]))\n",
    "    T_vhs.append(0.5*np.sum(f*Q.v_norm)*Q.dv**3*2/3)"
   ]
  },
  {
   "cell_type": "code",
   "execution_count": 29,
   "metadata": {},
   "outputs": [
    {
     "name": "stdout",
     "output_type": "stream",
     "text": [
      "CPU times: user 261 ms, sys: 21.4 ms, total: 282 ms\n",
      "Wall time: 112 ms\n"
     ]
    }
   ],
   "source": [
    "%%time\n",
    "T_vhs_02 = []\n",
    "for t in range(300):\n",
    "    f = np.real(Q.ifft3(f_hat[t]))\n",
    "    T_vhs_02.append(0.5*np.sum(f*Q.v_norm)*Q.dv**3*2/3)"
   ]
  },
  {
   "cell_type": "code",
   "execution_count": 44,
   "metadata": {},
   "outputs": [],
   "source": [
    "from __future__ import absolute_import, division, print_function\n",
    "import tensorflow as tf"
   ]
  },
  {
   "cell_type": "code",
   "execution_count": 126,
   "metadata": {},
   "outputs": [
    {
     "name": "stdout",
     "output_type": "stream",
     "text": [
      "Epoch: 0 loss = 0.00088943564 c = 0.42105532\n",
      "Epoch: 50 loss = 0.0008818453 c = 0.42321277\n",
      "Epoch: 100 loss = 0.0008818453 c = 0.42321277\n",
      "Epoch: 150 loss = 0.0008818453 c = 0.42321277\n",
      "Epoch: 200 loss = 0.0008818453 c = 0.42321277\n",
      "Epoch: 250 loss = 0.0008818453 c = 0.42321277\n",
      "Epoch: 300 loss = 0.0008818453 c = 0.42321277\n",
      "Epoch: 350 loss = 0.0008818453 c = 0.42321277\n",
      "Epoch: 400 loss = 0.0008818453 c = 0.42321277\n",
      "Epoch: 450 loss = 0.0008818453 c = 0.42321277\n",
      "Epoch: 500 loss = 0.0008818453 c = 0.42321277\n",
      "Epoch: 550 loss = 0.0008818453 c = 0.42321277\n",
      "Epoch: 600 loss = 0.0008818453 c = 0.42321277\n",
      "Epoch: 650 loss = 0.0008818453 c = 0.42321277\n",
      "Epoch: 700 loss = 0.0008818453 c = 0.42321277\n",
      "Epoch: 750 loss = 0.0008818453 c = 0.42321277\n",
      "Epoch: 800 loss = 0.0008818453 c = 0.42321277\n",
      "Epoch: 850 loss = 0.0008818453 c = 0.42321277\n",
      "Epoch: 900 loss = 0.0008818453 c = 0.42321277\n",
      "Epoch: 950 loss = 0.0008818453 c = 0.42321277\n",
      "Epoch: 1000 loss = 0.0008818453 c = 0.42321277\n",
      "Epoch: 1050 loss = 0.0008818453 c = 0.42321277\n",
      "Epoch: 1100 loss = 0.0008818453 c = 0.42321277\n",
      "Epoch: 1150 loss = 0.0008818453 c = 0.42321277\n",
      "Epoch: 1200 loss = 0.0008818453 c = 0.42321277\n",
      "Epoch: 1250 loss = 0.0008818453 c = 0.42321277\n",
      "Epoch: 1300 loss = 0.0008818453 c = 0.42321277\n",
      "Epoch: 1350 loss = 0.0008818453 c = 0.42321277\n",
      "Epoch: 1400 loss = 0.0008818453 c = 0.42321277\n",
      "Epoch: 1450 loss = 0.0008818453 c = 0.42321277\n",
      "Epoch: 1500 loss = 0.0008818453 c = 0.42321277\n",
      "Epoch: 1550 loss = 0.0008818453 c = 0.42321277\n",
      "Epoch: 1600 loss = 0.0008818453 c = 0.42321277\n",
      "Epoch: 1650 loss = 0.0008818453 c = 0.42321277\n",
      "Epoch: 1700 loss = 0.0008818453 c = 0.42321277\n",
      "Epoch: 1750 loss = 0.0008818453 c = 0.42321277\n",
      "Epoch: 1800 loss = 0.0008818453 c = 0.42321277\n",
      "Epoch: 1850 loss = 0.0008818453 c = 0.42321277\n",
      "Epoch: 1900 loss = 0.0008818453 c = 0.42321277\n",
      "Epoch: 1950 loss = 0.0008818453 c = 0.42321277\n"
     ]
    }
   ],
   "source": [
    "learning_rate = 0.1\n",
    "training_epochs = 2000\n",
    "display_step = 50\n",
    "\n",
    "# a = tf.Variable(1.0, tf.float32)\n",
    "c = tf.Variable(0.42, tf.float32)\n",
    "x = tf.placeholder(tf.float32)\n",
    "y = tf.placeholder(tf.float32)\n",
    "\n",
    "model = T_vhs_02[0]/(1.0 + c*x)**2\n",
    "loss = tf.reduce_sum(tf.square(model - y))/299\n",
    "\n",
    "optimizer = tf.train.GradientDescentOptimizer(learning_rate).minimize(loss)\n",
    "\n",
    "init = tf.global_variables_initializer()\n",
    "with tf.Session() as sess:\n",
    "    sess.run(init)\n",
    "    for epoch in range(training_epochs):\n",
    "        sess.run(optimizer, feed_dict={x: (np.arange(300)/100)[1:], y: T_vhs_02[1:]})\n",
    "        #Display logs per epoch step\n",
    "        if epoch % display_step == 0:\n",
    "            print(\"Epoch: \" + str(epoch)+ \" loss = \" \n",
    "                  + str(sess.run(loss, feed_dict={x: (np.arange(300)/100)[1:], y: T_vhs_02[1:]}))\n",
    "                  + \" c = \" + str(sess.run(c)))       "
   ]
  },
  {
   "cell_type": "code",
   "execution_count": 129,
   "metadata": {},
   "outputs": [
    {
     "data": {
      "image/png": "[encoded data removed]",
      "text/plain": [
       "<Figure size 432x288 with 1 Axes>"
      ]
     },
     "metadata": {},
     "output_type": "display_data"
    }
   ],
   "source": [
    "t = (np.arange(300)/100)\n",
    "\n",
    "fig, ax = plt.subplots()\n",
    "ax.plot(t, np.asarray(T_vhs), '--', label=r'$T_{num}$ with $e=0.8$')\n",
    "ax.plot(t, T_vhs[0]/(1 + 0.16752392*t)**2, label=r'$\\frac{2}{(1+0.16752392t)^2}$')\n",
    "ax.plot(t, np.asarray(T_vhs_02), '-.', label=r'$T_{num}$ with $e=0.2$')\n",
    "ax.plot(t, T_vhs_02[0]/(1.0 + 0.42321277*t)**2, label=r'$\\frac{1}{(1+0.42321277t)^2}$')\n",
    "ax.set_xlabel('$t$')\n",
    "ax.set_ylabel('$T$')\n",
    "ax.set_title('Haff\\'s cooling law')\n",
    "ax.legend(fontsize='large')\n",
    "ax.grid(which='both',linestyle=':')\n",
    "plt.savefig('Haff_cooling_new.pdf')\n",
    "plt.show()\n",
    "\n",
    "# plt.plot(t, np.asarray(T_vhs), '--', t, 2.25/(1+0.36*t)**2)"
   ]
  },
  {
   "cell_type": "code",
   "execution_count": 31,
   "metadata": {
    "collapsed": true
   },
   "outputs": [],
   "source": [
    "def T(t, e, eps, T_0):\n",
    "    return (T_0 - 8*eps/(1-e**2))*np.exp(-(1-e**2)*t/4) + 8*eps/(1-e**2)"
   ]
  },
  {
   "cell_type": "code",
   "execution_count": 99,
   "metadata": {},
   "outputs": [
    {
     "data": {
      "text/plain": [
       "0.2661413377541729"
      ]
     },
     "execution_count": 99,
     "metadata": {},
     "output_type": "execute_result"
    }
   ],
   "source": [
    "# e=0.2, 003\n",
    "T(1, 0.2, eps, E_0*2/3) - E*2/3"
   ]
  },
  {
   "cell_type": "code",
   "execution_count": 103,
   "metadata": {},
   "outputs": [
    {
     "data": {
      "text/plain": [
       "0.16773023124809094"
      ]
     },
     "execution_count": 103,
     "metadata": {},
     "output_type": "execute_result"
    }
   ],
   "source": [
    "# e=0.2, 005\n",
    "T(1, 0.2, eps, E_0*2/3) - E*2/3"
   ]
  },
  {
   "cell_type": "code",
   "execution_count": 107,
   "metadata": {},
   "outputs": [
    {
     "data": {
      "text/plain": [
       "0.10297536867238799"
      ]
     },
     "execution_count": 107,
     "metadata": {},
     "output_type": "execute_result"
    }
   ],
   "source": [
    "# e=0.2, 007\n",
    "T(1, 0.2, eps, E_0*2/3) - E*2/3"
   ]
  },
  {
   "cell_type": "code",
   "execution_count": 112,
   "metadata": {},
   "outputs": [
    {
     "data": {
      "text/plain": [
       "0.02584202650005074"
      ]
     },
     "execution_count": 112,
     "metadata": {},
     "output_type": "execute_result"
    }
   ],
   "source": [
    "# e=0.2, 009\n",
    "T(1, 0.2, eps, E_0*2/3) - E*2/3"
   ]
  },
  {
   "cell_type": "code",
   "execution_count": 118,
   "metadata": {},
   "outputs": [
    {
     "data": {
      "text/plain": [
       "-0.02422376071694199"
      ]
     },
     "execution_count": 118,
     "metadata": {},
     "output_type": "execute_result"
    }
   ],
   "source": [
    "# e=0.2, 011\n",
    "T(1, 0.2, eps, E_0*2/3) - E*2/3"
   ]
  },
  {
   "cell_type": "code",
   "execution_count": 122,
   "metadata": {},
   "outputs": [
    {
     "data": {
      "text/plain": [
       "-0.003058799838901116"
      ]
     },
     "execution_count": 122,
     "metadata": {},
     "output_type": "execute_result"
    }
   ],
   "source": [
    "# e=0.2, 013\n",
    "T(1, 0.2, eps, E_0*2/3) - E*2/3"
   ]
  },
  {
   "cell_type": "code",
   "execution_count": 126,
   "metadata": {},
   "outputs": [
    {
     "data": {
      "text/plain": [
       "0.004413127388460447"
      ]
     },
     "execution_count": 126,
     "metadata": {},
     "output_type": "execute_result"
    }
   ],
   "source": [
    "# e=0.2, 015\n",
    "T(1, 0.2, eps, E_0*2/3) - E*2/3"
   ]
  },
  {
   "cell_type": "code",
   "execution_count": 130,
   "metadata": {},
   "outputs": [
    {
     "data": {
      "text/plain": [
       "-0.001220110856786194"
      ]
     },
     "execution_count": 130,
     "metadata": {},
     "output_type": "execute_result"
    }
   ],
   "source": [
    "# e=0.2, 017\n",
    "T(1, 0.2, eps, E_0*2/3) - E*2/3"
   ]
  },
  {
   "cell_type": "code",
   "execution_count": 134,
   "metadata": {},
   "outputs": [
    {
     "data": {
      "text/plain": [
       "-0.000396517639616345"
      ]
     },
     "execution_count": 134,
     "metadata": {},
     "output_type": "execute_result"
    }
   ],
   "source": [
    "# e=0.2, 019\n",
    "T(1, 0.2, eps, E_0*2/3) - E*2/3"
   ]
  },
  {
   "cell_type": "markdown",
   "metadata": {},
   "source": [
    "$T = 1$, $\\Delta t = 0.01$ with anisotropic initial\n",
    "\n",
    "| Spherical Design | 0.2 |\n",
    "| ------ | ------ |\n",
    "| 6 | 2.661413377541729e-01 | \n",
    "| 12 | 1.6773023124809094e-01 |\n",
    "| 32 | 1.0297536867238799e-01 |\n",
    "| 48 | 2.584202650005074e-02 |\n",
    "| 70 | 2.422376071694199e-02 |\n",
    "| 94 | 3.058799838901116e-03 |\n",
    "| 120 | 4.413127388460447e-03 |\n",
    "| 156 | 1.220110856786194e-03 |\n",
    "| 192 | 3.96517639616345e-04 |"
   ]
  },
  {
   "cell_type": "markdown",
   "metadata": {},
   "source": [
    "$T = 1$, $\\Delta t = 0.01$ with isotropic initial\n",
    "\n",
    "| Spherical Design | 0.2 |\n",
    "| ------ | ------ |\n",
    "| 6 | 0.0013957739849754791 | \n",
    "| 12 | 9.9706271716293315e-05 |\n",
    "| 32 | 2.2499901350947482e-06 |\n",
    "| 48 | 2.4272557155313734e-06 |\n",
    "| 70 | 2.4703481364962698e-06 |\n",
    "| 94 | 2.4703481364962698e-06 |\n",
    "| 120 | 2.453380453903975e-06 | "
   ]
  }
 ],
 "metadata": {
  "kernelspec": {
   "display_name": "Python 3",
   "language": "python",
   "name": "python3"
  },
  "language_info": {
   "codemirror_mode": {
    "name": "ipython",
    "version": 3
   },
   "file_extension": ".py",
   "mimetype": "text/x-python",
   "name": "python",
   "nbconvert_exporter": "python",
   "pygments_lexer": "ipython3",
   "version": "3.6.5"
  }
 },
 "nbformat": 4,
 "nbformat_minor": 2
}
