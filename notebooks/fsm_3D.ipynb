{
 "cells": [
  {
   "cell_type": "markdown",
   "metadata": {},
   "source": [
    "# The fast spectral method"
   ]
  },
  {
   "cell_type": "markdown",
   "metadata": {},
   "source": [
    "By choosing the test function $\\phi(v) = e^{-i\\frac{\\pi}{L} k\\cdot v}$ in the weak form, we can obtain the Fourier expansion of $Q$:\n",
    "\n",
    "$$\\hat{Q}_k= \\sum_{\\substack{l,m=-\\frac{N}{2}\\\\l+m=k}}^{\\frac{N}{2}-1} G(l,m) \\hat{f}_l \\hat{f}_m\\,,$$\n",
    "\n",
    "where the weight $G(l,m)$ is given by\n",
    "\n",
    "$$\n",
    "G(l,m)=\\int_{\\mathbb{R}^d}e^{-i\\frac{\\pi}{L}m \\cdot g}\\bigg[\\int_{S^{d-1}}B_{\\sigma}(\\lvert g\\rvert,\\sigma\\cdot \\hat{g})\\left(e^{-i\\frac{\\pi}{L}\\frac{1+e}{4}(l+m)\\cdot (|g|\\sigma-g)}-1\\right)\\,\\mathrm{d}{\\sigma}\\bigg]\\,\\mathrm{d}{g} \\,,\n",
    "$$\n",
    "\n",
    "where $g$ needs to be truncated properly as was done for the elastic case. \n",
    "\n",
    "The idea of the fast algorithm is to separate the weight $G$ as $G(l,m)\\approx\\sum_{t=1}^T\\alpha_t(l+m)\\beta_t(m)$ using quadrature rules."
   ]
  },
  {
   "cell_type": "code",
   "execution_count": 1,
   "metadata": {
    "collapsed": true
   },
   "outputs": [],
   "source": [
    "%matplotlib inline\n",
    "import numpy as np\n",
    "from math import pi\n",
    "from scipy import special\n",
    "import matplotlib.pyplot as plt\n",
    "import pyfftw\n",
    "\n",
    "import sys\n",
    "sys.path.append('../src')\n",
    "from fast_spec_col_3d import FastSpectralCollison3D\n",
    "from direct_col_3d import DirectCol3D\n",
    "from utility import get_config, RK3"
   ]
  },
  {
   "cell_type": "markdown",
   "metadata": {},
   "source": [
    "## 3D case"
   ]
  },
  {
   "cell_type": "markdown",
   "metadata": {},
   "source": [
    "In 3D, and VHS case $B_{\\sigma}(|g|,\\sigma\\cdot \\hat{g})=C_{\\gamma}|g|^{\\gamma}$:\n",
    "\n",
    "$$\n",
    "\\int_{S^2}B_{\\sigma}(|g|,\\sigma\\cdot \\hat{g})\\left(e^{-i\\frac{\\pi}{L}\\frac{1+e}{4}(l+m)\\cdot (|g|\\sigma-g)}-1\\right)\\,\\mathrm{d}\\sigma=4\\pi C_{\\gamma}|g|^{\\gamma}\\bigg[ e^{i\\frac{\\pi}{L}\\frac{1+e}{4}(l+m)\\cdot g}\\text{Sinc}\\left(\\frac{\\pi}{L}\\frac{1+e}{4}\\vert l+m \\vert|g|\\right)-1\\bigg],\n",
    "$$\n",
    "\n",
    "then let $\\rho=|g|$, $\\sigma=\\hat{g}$,\n",
    "\n",
    "$$\n",
    "G(l,m)=\\sum_{\\rho,\\sigma}w_{\\rho}w_{\\sigma}4\\pi C_{\\gamma}\\rho^{\\gamma+2}e^{-i\\frac{\\pi}{L}\\rho m \\cdot \\sigma}\\left[ e^{i\\frac{\\pi}{L}\\frac{1+e}{4}\\rho (l+m)\\cdot \\sigma}\\text{Sinc}\\left(\\frac{\\pi}{L}\\frac{1+e}{4}|l+m|\\rho\\right)-1\\right],\n",
    "$$\n",
    "\n",
    "therefore,\n",
    "\n",
    "$$ \n",
    "\\hat{Q}_k=\\sum_{\\rho,\\sigma}w_{\\rho}w_{\\sigma}4\\pi C_{\\gamma}\\rho^{\\gamma+2}\\left[ e^{i\\frac{\\pi}{L}\\frac{1+e}{4}\\rho k\\cdot \\sigma}\\text{Sinc}\\left(\\frac{\\pi}{L}\\frac{1+e}{4}\\rho |k|\\right)-1\\right]\\sum_{\\substack{l,m=-\\frac{N}{2}\\\\l+m=k}}^{\\frac{N}{2}-1}\\hat{f}_l \\left[e^{-i\\frac{\\pi}{L}\\rho m \\cdot \\sigma}\\hat{f}_m\\right],\n",
    "$$\n",
    "\n",
    "or the loss term can be computed separately as\n",
    "\n",
    "$$ \n",
    "\\hat{Q}_k^-=\\sum_{\\rho,\\sigma}w_{\\rho}w_{\\sigma}4\\pi C_{\\gamma}\\rho^{\\gamma+2}\\sum_{\\substack{l,m=-\\frac{N}{2}\\\\l+m=k}}^{\\frac{N}{2}-1}\\hat{f}_l \\left[e^{-i\\frac{\\pi}{L}\\rho m \\cdot \\sigma}\\hat{f}_m\\right]=\\sum_{\\rho}w_{\\rho}16\\pi^2 C_{\\gamma}\\rho^{\\gamma+2}\\sum_{\\substack{l,m=-\\frac{N}{2}\\\\l+m=k}}^{\\frac{N}{2}-1}\\hat{f}_l \\left[\\text{Sinc}\\left(\\frac{\\pi}{L}\\rho |m|\\right)\\hat{f}_m\\right].\n",
    "$$"
   ]
  },
  {
   "cell_type": "markdown",
   "metadata": {},
   "source": [
    "## Direct method"
   ]
  },
  {
   "cell_type": "markdown",
   "metadata": {},
   "source": [
    "In 3D, and VHS case $B_{\\sigma}(|g|,\\sigma\\cdot \\hat{g})=C_{\\gamma}|g|^{\\gamma}$:\n",
    "\n",
    "$$\n",
    "\\int_{S^2}B_{\\sigma}(|g|,\\sigma\\cdot \\hat{g})\\left(e^{-i\\frac{\\pi}{L}\\frac{1+e}{4}(l+m)\\cdot (|g|\\sigma-g)}-1\\right)\\,\\mathrm{d}\\sigma=4\\pi C_{\\gamma}|g|^{\\gamma}\\bigg[ e^{i\\frac{\\pi}{L}\\frac{1+e}{4}(l+m)\\cdot g}\\text{Sinc}\\left(\\frac{\\pi}{L}\\frac{1+e}{4}\\vert l+m \\vert|g|\\right)-1\\bigg],\n",
    "$$\n",
    "\n",
    "then let $\\rho=|g|$, $\\sigma=\\hat{g}$,\n",
    "\n",
    "$$\n",
    "G(l,m)=\\sum_{\\rho}w_{\\rho}16\\pi^2 C_{\\gamma}\\rho^{\\gamma+2}\\left[\\text{Sinc}\\left(\\frac{\\pi}{L}\\left|\\frac{1+e}{4}(l+m)-m\\right|\\rho\\right)\\text{Sinc}\\left(\\frac{\\pi}{L}\\frac{1+e}{4}|l+m|\\rho\\right)-\\text{Sinc}\\left(\\frac{\\pi}{L}\\rho|m|\\right)\\right],\n",
    "$$"
   ]
  },
  {
   "cell_type": "markdown",
   "metadata": {},
   "source": [
    "# Fast Spectral Method"
   ]
  },
  {
   "cell_type": "code",
   "execution_count": 2,
   "metadata": {},
   "outputs": [],
   "source": [
    "def isotropic_f(v):\n",
    "    t = 6.5\n",
    "    K = 1 - np.exp(-t/6)\n",
    "    v_norm = v[:,None,None]**2 + v[:,None]**2 + v**2\n",
    "    return 1/(2*(2*pi*K)**(3/2))*np.exp(-(v_norm)/(2*K))*((5*K-3)/K+(1-K)/(K**2)*(v_norm))\n",
    "\n",
    "def extQ(v):\n",
    "    t = 6.5\n",
    "    K = 1 - np.exp(-t/6)\n",
    "    dK = np.exp(-t/6)/6\n",
    "    v_norm = v[:,None,None]**2 + v[:,None]**2 + v**2\n",
    "    df = (-3/(2*K)+(v_norm)/(2*K**2))*f + 1/(2*(2*pi*K)**(3/2))*np.exp(-v_norm/(2*K))*(\n",
    "    3/(K**2)+(K-2)/(K**3)*v_norm)\n",
    "    return df*dK\n",
    "\n",
    "def anisotropic_f(v):\n",
    "    return 8*pi**(-1.5)/9*(np.exp(-(v-2)[:,None,None]**2/0.25-(v-2)[:,None]**2/0.25 - (v-2)**2/0.25) \n",
    "                           + np.exp(-(v+0.5)[:,None,None]**2-(v+0.5)[:,None]**2 - (v+0.5)**2))"
   ]
  },
  {
   "cell_type": "code",
   "execution_count": 3,
   "metadata": {},
   "outputs": [],
   "source": [
    "config_3D = get_config('../src/configs/config_3D.json')\n",
    "\n",
    "Q_direct = DirectCol3D(config_3D)\n",
    "Q_direct.save_Glm('../data/Glm_02_32')\n",
    "# Q_direct.get_Glm_from_file('../data/Glm_e02_32_zip.npz')"
   ]
  },
  {
   "cell_type": "code",
   "execution_count": 4,
   "metadata": {},
   "outputs": [],
   "source": [
    "glm = np.load('../data/Glm_02_32.npz')"
   ]
  },
  {
   "cell_type": "code",
   "execution_count": 5,
   "metadata": {},
   "outputs": [],
   "source": [
    "glm1 = np.load('../data/Glm_e02_32.npz')"
   ]
  },
  {
   "cell_type": "code",
   "execution_count": null,
   "metadata": {},
   "outputs": [],
   "source": [
    "np.max(np.abs(g))"
   ]
  },
  {
   "cell_type": "code",
   "execution_count": 3,
   "metadata": {},
   "outputs": [],
   "source": [
    "Q = FastSpectralCollison3D(config_3D)\n",
    "\n",
    "config_3D.quadrature_config.method = \"gauss\"\n",
    "Q_gauss = FastSpectralCollison3D(config_3D)"
   ]
  },
  {
   "cell_type": "code",
   "execution_count": 18,
   "metadata": {},
   "outputs": [
    {
     "name": "stdout",
     "output_type": "stream",
     "text": [
      "CPU times: user 22.5 s, sys: 3.69 ms, total: 22.5 s\n",
      "Wall time: 22.5 s\n"
     ]
    }
   ],
   "source": [
    "%time Q_direct_col = Q_direct.col(anisotropic_f(Q_direct.v))/(4*pi)"
   ]
  },
  {
   "cell_type": "code",
   "execution_count": 29,
   "metadata": {},
   "outputs": [],
   "source": [
    "config_3D = get_config('../src/configs/config_3D.json')\n",
    "Q = FastSpectralCollison3D(config_3D)"
   ]
  },
  {
   "cell_type": "code",
   "execution_count": 30,
   "metadata": {},
   "outputs": [
    {
     "name": "stdout",
     "output_type": "stream",
     "text": [
      "CPU times: user 6.16 s, sys: 1.68 s, total: 7.84 s\n",
      "Wall time: 3.82 s\n"
     ]
    },
    {
     "data": {
      "text/plain": [
       "0.0014155911992986903"
      ]
     },
     "execution_count": 30,
     "metadata": {},
     "output_type": "execute_result"
    }
   ],
   "source": [
    "%time Q_sep = Q.col_sep(anisotropic_f(Q.v))/(4*pi)\n",
    "np.max(np.abs(Q_sep - Q_direct_col))"
   ]
  },
  {
   "cell_type": "code",
   "execution_count": 26,
   "metadata": {},
   "outputs": [],
   "source": [
    "config_3D.quadrature_config.method = \"gauss\"\n",
    "Q_gauss = FastSpectralCollison3D(config_3D)"
   ]
  },
  {
   "cell_type": "code",
   "execution_count": 27,
   "metadata": {},
   "outputs": [
    {
     "name": "stdout",
     "output_type": "stream",
     "text": [
      "CPU times: user 1.81 s, sys: 526 ms, total: 2.33 s\n",
      "Wall time: 1.16 s\n"
     ]
    },
    {
     "data": {
      "text/plain": [
       "0.23402986404218276"
      ]
     },
     "execution_count": 27,
     "metadata": {},
     "output_type": "execute_result"
    }
   ],
   "source": [
    "%time Q_gauss_sep = Q_gauss.col_sep(isotropic_f(Q_gauss.v))/(4*pi)\n",
    "np.max(np.abs(Q_gauss_sep - Q_direct_col))"
   ]
  },
  {
   "cell_type": "code",
   "execution_count": 3,
   "metadata": {},
   "outputs": [],
   "source": [
    "def plot_time(N, cost1, cost2, name):\n",
    "    fig, ax = plt.subplots()\n",
    "    ax.loglog(N, cost1, 'o-', label='Computation time$')\n",
    "    ax.loglog(N, cost2, label='reference: 3-order')\n",
    "    ax.set_xlabel('$N$')\n",
    "    ax.set_ylabel('Time')\n",
    "    ax.set_title('Convergence of RK3 in $\\Delta t$')\n",
    "    ax.legend(fontsize='large')\n",
    "    ax.grid(which='both',linestyle=':')\n",
    "#     plt.savefig(name)\n",
    "    plt.show()"
   ]
  },
  {
   "cell_type": "code",
   "execution_count": 30,
   "metadata": {},
   "outputs": [
    {
     "data": {
      "image/png": "[encoded data removed]",
      "text/plain": [
       "<matplotlib.figure.Figure at 0x7f8e5aa90b00>"
      ]
     },
     "metadata": {},
     "output_type": "display_data"
    }
   ],
   "source": [
    "fig, ax = plt.subplots()\n",
    "ax.loglog(N, cost_direct, 'o-', label='Direct method')\n",
    "ax.loglog(N_fast, cost_fast, '*-', label='Fast method')\n",
    "ax.set_xlabel('$N$')\n",
    "ax.set_ylabel('Time (s)')\n",
    "ax.set_title('CPU time')\n",
    "ax.legend(fontsize='large')\n",
    "ax.grid(which='both',linestyle=':')\n",
    "plt.savefig('CPU time.pdf')\n",
    "plt.show()"
   ]
  },
  {
   "cell_type": "markdown",
   "metadata": {},
   "source": [
    "$e=0.2$, Spherical design number $= 32$\n",
    "\n",
    "| N | Direct method | Fast method |\n",
    "| ------ | ------ | ------ |\n",
    "| 8 | 32.2ms | 17.6ms |\n",
    "| 16 | 602ms | 140ms |\n",
    "| 32 | 23.7s | 1.18s|\n",
    "| 64 | -- | 9.7s |"
   ]
  },
  {
   "cell_type": "code",
   "execution_count": 22,
   "metadata": {},
   "outputs": [
    {
     "data": {
      "text/plain": [
       "[<matplotlib.lines.Line2D at 0x7f8e5fb0c668>]"
      ]
     },
     "execution_count": 22,
     "metadata": {},
     "output_type": "execute_result"
    },
    {
     "data": {
      "image/png": "[encoded data removed]",
      "text/plain": [
       "<matplotlib.figure.Figure at 0x7f8e5ad13fd0>"
      ]
     },
     "metadata": {},
     "output_type": "display_data"
    }
   ],
   "source": [
    "N = [8, 16, 32]\n",
    "cost_direct = [32.2e-3, 6.02e-1, 23.7]\n",
    "fig, ax = plt.subplots()\n",
    "ax.loglog(N, cost_direct, 'o-', label='Computation time$')\n",
    "ax.loglog(N_fast, cost_fast, 'x-', label='Computation time$')"
   ]
  },
  {
   "cell_type": "code",
   "execution_count": 21,
   "metadata": {},
   "outputs": [
    {
     "data": {
      "text/plain": [
       "[<matplotlib.lines.Line2D at 0x7f8e5ac8d978>]"
      ]
     },
     "execution_count": 21,
     "metadata": {},
     "output_type": "execute_result"
    },
    {
     "data": {
      "image/png": "[encoded data removed]",
      "text/plain": [
       "<matplotlib.figure.Figure at 0x7f8e5acad240>"
      ]
     },
     "metadata": {},
     "output_type": "display_data"
    }
   ],
   "source": [
    "N_fast = [8, 16, 32, 64]\n",
    "cost_fast = [17.6e-3, 1.40e-1, 1.18, 9.7]\n",
    "fig, ax = plt.subplots()\n",
    "ax.loglog(N_fast, cost_fast, 'o-', label='Computation time$')"
   ]
  },
  {
   "cell_type": "code",
   "execution_count": null,
   "metadata": {},
   "outputs": [],
   "source": [
    "# 6, 223ms\n",
    "np.max(np.abs(Q_direct - Q_1))"
   ]
  },
  {
   "cell_type": "code",
   "execution_count": null,
   "metadata": {},
   "outputs": [],
   "source": [
    "# 12, 458ms\n",
    "np.max(np.abs(Q_direct - Q_1))"
   ]
  },
  {
   "cell_type": "code",
   "execution_count": null,
   "metadata": {},
   "outputs": [],
   "source": [
    "# 32, 1.22s\n",
    "np.max(np.abs(Q_1 - Q_direct))"
   ]
  },
  {
   "cell_type": "code",
   "execution_count": null,
   "metadata": {},
   "outputs": [],
   "source": [
    "# 48, 1.79s\n",
    "np.max(np.abs(Q_1 - Q_direct))"
   ]
  },
  {
   "cell_type": "code",
   "execution_count": null,
   "metadata": {},
   "outputs": [],
   "source": [
    "# 70, 2.5s\n",
    "np.max(np.abs(Q_1 - Q_direct))"
   ]
  },
  {
   "cell_type": "code",
   "execution_count": null,
   "metadata": {},
   "outputs": [],
   "source": [
    "# 94, 3.38s\n",
    "np.max(np.abs(Q_1 - Q_direct))"
   ]
  },
  {
   "cell_type": "code",
   "execution_count": null,
   "metadata": {},
   "outputs": [],
   "source": [
    "# 120, 4.43s\n",
    "np.max(np.abs(Q_1 - Q_direct))"
   ]
  },
  {
   "cell_type": "markdown",
   "metadata": {},
   "source": [
    "$e=0.2$, $N=32$\n",
    "\n",
    "| Spherical Design | Error |\n",
    "| ------ | ------ |\n",
    "| 6 | 0.00041820767783433107 | \n",
    "| 12 | 3.1726851245650724e-05 |\n",
    "| 32 | 6.5752814213618921e-07 |\n",
    "| 48 | 5.6132233266191489e-07 |\n",
    "| 70 | 2.6714628356683257e-07 |\n",
    "| 94 | 1.0508293902503248e-07 |\n",
    "| 120 | 2.8872928147741922e-08 | "
   ]
  },
  {
   "cell_type": "markdown",
   "metadata": {},
   "source": [
    "We also have $\\rho_0 = 1$, $u_0 = 0$, $E = T$. Temperature $T$ safisfies:\n",
    "\n",
    "$$\n",
    "T=\\left(T_0-\\frac{8\\varepsilon}{1-e^2}\\right)\\exp{\\left(-\\frac{1-e^2}{4}t\\right)}+\\frac{8\\varepsilon}{1-e^2}.\n",
    "$$"
   ]
  },
  {
   "cell_type": "code",
   "execution_count": 3,
   "metadata": {},
   "outputs": [],
   "source": [
    "def T(t, e, eps, T_0):\n",
    "    return (T_0 - 8*eps/(1-e**2))*np.exp(-(1-e**2)*t/4) + 8*eps/(1-e**2)"
   ]
  },
  {
   "cell_type": "code",
   "execution_count": 16,
   "metadata": {},
   "outputs": [
    {
     "name": "stdout",
     "output_type": "stream",
     "text": [
      "CPU times: user 23min 23s, sys: 2min 15s, total: 25min 39s\n",
      "Wall time: 10min 46s\n"
     ]
    }
   ],
   "source": [
    "%%time\n",
    "\n",
    "dt = 0.01\n",
    "eps = 1e-6\n",
    "\n",
    "config_3D = get_config('../src/configs/config_3D.json')\n",
    "Q = FastSpectralCollison3D(config_3D)\n",
    "\n",
    "f_hat = []\n",
    "\n",
    "f_0 = anisotropic_f(Q.v)\n",
    "E_0 = 0.5*np.sum(f_0*Q.v_norm)*Q.dv**3\n",
    "f = Q.fft3(f_0).copy()\n",
    "\n",
    "for t in range(50):\n",
    "    f = RK3(f, Q.col_heat_sep, eps, dt)\n",
    "    f_hat.append(f)\n",
    "    \n",
    "f = np.real(Q.ifft3(f))\n",
    "E = 0.5*np.sum(f*Q.v_norm)*Q.dv**3"
   ]
  },
  {
   "cell_type": "code",
   "execution_count": 25,
   "metadata": {},
   "outputs": [
    {
     "data": {
      "text/plain": [
       "array([ 6.67237267e-14,  6.71997803e-14,  6.77479214e-14,  6.85256368e-14,\n",
       "        6.93765076e-14,  7.04335472e-14,  7.15530009e-14,  7.28438509e-14,\n",
       "        7.41781719e-14,  7.56442494e-14,  7.71435171e-14,  7.87452298e-14,\n",
       "        8.03908552e-14,  8.21478650e-14,  8.39823943e-14,  8.59473175e-14,\n",
       "        8.80207135e-14,  9.02122665e-14,  9.24935046e-14,  9.48210436e-14,\n",
       "        9.71649898e-14,  9.94494923e-14,  1.01669758e-13,  1.03722695e-13,\n",
       "        1.05660063e-13,  1.07407575e-13,  1.08806473e-13,  1.09316317e-13,\n",
       "        1.09194486e-13,  1.09441459e-13,  1.10023023e-13,  1.08021197e-13,\n",
       "        1.03376470e-13,  9.98873972e-14,  1.00299825e-13,  9.94342473e-14,\n",
       "        9.29681297e-14,  8.41743439e-14,  6.83319191e-14,  2.34843261e-14,\n",
       "       -6.67298196e-14, -1.80394521e-13, -1.76559102e-13, -3.10625464e-14,\n",
       "        6.79214238e-14,  8.62086499e-14,  8.39959679e-14,  8.21237344e-14,\n",
       "        8.02160788e-14,  7.86237081e-14,  7.68111253e-14,  7.53172241e-14,\n",
       "        7.36930189e-14,  7.23935062e-14,  7.10303438e-14,  6.99891818e-14,\n",
       "        6.89280337e-14,  6.81769192e-14,  6.74327250e-14,  6.69843657e-14,\n",
       "        6.65651632e-14,  6.64234727e-14,  6.63280074e-14,  6.64960194e-14])"
      ]
     },
     "execution_count": 25,
     "metadata": {},
     "output_type": "execute_result"
    }
   ],
   "source": [
    "f[:, 10, 10]"
   ]
  },
  {
   "cell_type": "code",
   "execution_count": 21,
   "metadata": {},
   "outputs": [
    {
     "data": {
      "text/plain": [
       "0.14641142263066298"
      ]
     },
     "execution_count": 21,
     "metadata": {},
     "output_type": "execute_result"
    }
   ],
   "source": [
    "T(0.5, 0.2, eps, E_0*3/2) - E*3/2"
   ]
  },
  {
   "cell_type": "code",
   "execution_count": 44,
   "metadata": {},
   "outputs": [
    {
     "name": "stdout",
     "output_type": "stream",
     "text": [
      "CPU times: user 273 ms, sys: 31.1 ms, total: 304 ms\n",
      "Wall time: 126 ms\n"
     ]
    }
   ],
   "source": [
    "%%time\n",
    "T_vhs = []\n",
    "for t in range(300):\n",
    "    f = np.real(Q.ifft3(f_hat[t]))\n",
    "    T_vhs.append(0.5*np.sum(f*v_norm)*dv**3*2/3)"
   ]
  },
  {
   "cell_type": "code",
   "execution_count": 60,
   "metadata": {},
   "outputs": [
    {
     "name": "stdout",
     "output_type": "stream",
     "text": [
      "CPU times: user 266 ms, sys: 28.8 ms, total: 294 ms\n",
      "Wall time: 117 ms\n"
     ]
    }
   ],
   "source": [
    "%%time\n",
    "T_vhs_02 = []\n",
    "for t in range(300):\n",
    "    f = np.real(Q.ifft3(f_hat[t]))\n",
    "    T_vhs_02.append(0.5*np.sum(f*v_norm)*dv**3*2/3)"
   ]
  },
  {
   "cell_type": "code",
   "execution_count": 74,
   "metadata": {},
   "outputs": [
    {
     "data": {
      "image/png": "[encoded data removed]",
      "text/plain": [
       "<Figure size 432x288 with 1 Axes>"
      ]
     },
     "metadata": {},
     "output_type": "display_data"
    }
   ],
   "source": [
    "t = (np.arange(300)/100)\n",
    "\n",
    "fig, ax = plt.subplots()\n",
    "ax.plot(t, np.asarray(T_vhs), '--', label=r'$T_{num}$ with $e=0.8$')\n",
    "ax.plot(t, 1/(1+0.135*t)**2, label=r'$\\frac{1}{(1+0.135t)^2}$')\n",
    "ax.plot(t, np.asarray(T_vhs_02), '-.', label=r'$T_{num}$ with $e=0.2$')\n",
    "ax.plot(t, 1/(1+0.36*t)**2, label=r'$\\frac{1}{(1+0.36t)^2}$')\n",
    "ax.set_xlabel('$t$')\n",
    "ax.set_ylabel('$T$')\n",
    "ax.set_title('Haff\\'s cooling law')\n",
    "ax.legend(fontsize='large')\n",
    "ax.grid(which='both',linestyle=':')\n",
    "plt.savefig('Haff\\'s_cooling.pdf')\n",
    "plt.show()\n",
    "\n",
    "# plt.plot(t, np.asarray(T_vhs), '--', t, 2.25/(1+0.36*t)**2)"
   ]
  },
  {
   "cell_type": "code",
   "execution_count": 31,
   "metadata": {
    "collapsed": true
   },
   "outputs": [],
   "source": [
    "def T(t, e, eps, T_0):\n",
    "    return (T_0 - 8*eps/(1-e**2))*np.exp(-(1-e**2)*t/4) + 8*eps/(1-e**2)"
   ]
  },
  {
   "cell_type": "code",
   "execution_count": 8,
   "metadata": {},
   "outputs": [
    {
     "data": {
      "text/plain": [
       "9.747771828028107e-05"
      ]
     },
     "execution_count": 8,
     "metadata": {},
     "output_type": "execute_result"
    }
   ],
   "source": [
    "# e=0.2, 003\n",
    "T(1, 0.2, eps, E_0*3/2) - E*3/2"
   ]
  },
  {
   "cell_type": "code",
   "execution_count": 37,
   "metadata": {},
   "outputs": [
    {
     "data": {
      "text/plain": [
       "0.13618309212330915"
      ]
     },
     "execution_count": 37,
     "metadata": {},
     "output_type": "execute_result"
    }
   ],
   "source": [
    "# e=0.2, 005\n",
    "T(1, 0.2, eps, E_0*3/2) - E*3/2"
   ]
  },
  {
   "cell_type": "code",
   "execution_count": 22,
   "metadata": {},
   "outputs": [
    {
     "data": {
      "text/plain": [
       "-0.0016195770090696726"
      ]
     },
     "execution_count": 22,
     "metadata": {},
     "output_type": "execute_result"
    }
   ],
   "source": [
    "# e=0.2, 007\n",
    "T(1, 0.2, eps, E_0*3/2) - E*3/2"
   ]
  },
  {
   "cell_type": "code",
   "execution_count": null,
   "metadata": {},
   "outputs": [],
   "source": [
    "# e=0.2, 009\n",
    "T(1, e, eps, E_0*3/2) - E*3/2"
   ]
  },
  {
   "cell_type": "code",
   "execution_count": null,
   "metadata": {},
   "outputs": [],
   "source": [
    "# e=0.2, 011\n",
    "T(1, e, eps, E_0*3/2) - E*3/2"
   ]
  },
  {
   "cell_type": "code",
   "execution_count": null,
   "metadata": {},
   "outputs": [],
   "source": [
    "# e=0.2, 013\n",
    "T(1, e, eps, E_0*3/2) - E*3/2"
   ]
  },
  {
   "cell_type": "code",
   "execution_count": 34,
   "metadata": {},
   "outputs": [
    {
     "data": {
      "text/plain": [
       "-0.014033867431703984"
      ]
     },
     "execution_count": 34,
     "metadata": {},
     "output_type": "execute_result"
    }
   ],
   "source": [
    "# e=0.2, 015\n",
    "T(1, 0.2, eps, E_0*3/2) - E*3/2"
   ]
  },
  {
   "cell_type": "markdown",
   "metadata": {},
   "source": [
    "$T = 1$, $\\Delta t = 0.01$\n",
    "\n",
    "| Spherical Design | 0.2 |\n",
    "| ------ | ------ |\n",
    "| 6 | 0.0013957739849754791 | \n",
    "| 12 | 9.9706271716293315e-05 |\n",
    "| 32 | 2.2499901350947482e-06 |\n",
    "| 48 | 2.4272557155313734e-06 |\n",
    "| 70 | 2.4703481364962698e-06 |\n",
    "| 94 | 2.4703481364962698e-06 |\n",
    "| 120 | 2.453380453903975e-06 | "
   ]
  }
 ],
 "metadata": {
  "kernelspec": {
   "display_name": "Python 3",
   "language": "python",
   "name": "python3"
  },
  "language_info": {
   "codemirror_mode": {
    "name": "ipython",
    "version": 3
   },
   "file_extension": ".py",
   "mimetype": "text/x-python",
   "name": "python",
   "nbconvert_exporter": "python",
   "pygments_lexer": "ipython3",
   "version": "3.6.5"
  }
 },
 "nbformat": 4,
 "nbformat_minor": 2
}
