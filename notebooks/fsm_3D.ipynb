{
 "cells": [
  {
   "cell_type": "markdown",
   "metadata": {},
   "source": [
    "# The fast spectral method"
   ]
  },
  {
   "cell_type": "markdown",
   "metadata": {},
   "source": [
    "By choosing the test function $\\phi(v) = e^{-i\\frac{\\pi}{L} k\\cdot v}$ in the weak form, we can obtain the Fourier expansion of $Q$:\n",
    "\n",
    "$$\\hat{Q}_k= \\sum_{\\substack{l,m=-\\frac{N}{2}\\\\l+m=k}}^{\\frac{N}{2}-1} G(l,m) \\hat{f}_l \\hat{f}_m\\,,$$\n",
    "\n",
    "where the weight $G(l,m)$ is given by\n",
    "\n",
    "$$\n",
    "G(l,m)=\\int_{\\mathbb{R}^d}e^{-i\\frac{\\pi}{L}m \\cdot g}\\bigg[\\int_{S^{d-1}}B_{\\sigma}(\\lvert g\\rvert,\\sigma\\cdot \\hat{g})\\left(e^{-i\\frac{\\pi}{L}\\frac{1+e}{4}(l+m)\\cdot (|g|\\sigma-g)}-1\\right)\\,\\mathrm{d}{\\sigma}\\bigg]\\,\\mathrm{d}{g} \\,,\n",
    "$$\n",
    "\n",
    "where $g$ needs to be truncated properly as was done for the elastic case. \n",
    "\n",
    "The idea of the fast algorithm is to separate the weight $G$ as $G(l,m)\\approx\\sum_{t=1}^T\\alpha_t(l+m)\\beta_t(m)$ using quadrature rules."
   ]
  },
  {
   "cell_type": "code",
   "execution_count": 1,
   "metadata": {
    "collapsed": true
   },
   "outputs": [],
   "source": [
    "%matplotlib inline\n",
    "import numpy as np\n",
    "from math import pi\n",
    "from scipy import special\n",
    "import matplotlib.pyplot as plt\n",
    "import pyfftw\n",
    "\n",
    "import sys\n",
    "sys.path.append('../src')\n",
    "from fast_spec_col_3d import FastSpectralCollison3D\n",
    "from direct_col_3d import DirectCol3D\n",
    "from utility import get_config, RK3"
   ]
  },
  {
   "cell_type": "markdown",
   "metadata": {},
   "source": [
    "## 3D case"
   ]
  },
  {
   "cell_type": "markdown",
   "metadata": {},
   "source": [
    "In 3D, and VHS case $B_{\\sigma}(|g|,\\sigma\\cdot \\hat{g})=C_{\\gamma}|g|^{\\gamma}$:\n",
    "\n",
    "$$\n",
    "\\int_{S^2}B_{\\sigma}(|g|,\\sigma\\cdot \\hat{g})\\left(e^{-i\\frac{\\pi}{L}\\frac{1+e}{4}(l+m)\\cdot (|g|\\sigma-g)}-1\\right)\\,\\mathrm{d}\\sigma=4\\pi C_{\\gamma}|g|^{\\gamma}\\bigg[ e^{i\\frac{\\pi}{L}\\frac{1+e}{4}(l+m)\\cdot g}\\text{Sinc}\\left(\\frac{\\pi}{L}\\frac{1+e}{4}\\vert l+m \\vert|g|\\right)-1\\bigg],\n",
    "$$\n",
    "\n",
    "then let $\\rho=|g|$, $\\sigma=\\hat{g}$,\n",
    "\n",
    "$$\n",
    "G(l,m)=\\sum_{\\rho,\\sigma}w_{\\rho}w_{\\sigma}4\\pi C_{\\gamma}\\rho^{\\gamma+2}e^{-i\\frac{\\pi}{L}\\rho m \\cdot \\sigma}\\left[ e^{i\\frac{\\pi}{L}\\frac{1+e}{4}\\rho (l+m)\\cdot \\sigma}\\text{Sinc}\\left(\\frac{\\pi}{L}\\frac{1+e}{4}|l+m|\\rho\\right)-1\\right],\n",
    "$$\n",
    "\n",
    "therefore,\n",
    "\n",
    "$$ \n",
    "\\hat{Q}_k=\\sum_{\\rho,\\sigma}w_{\\rho}w_{\\sigma}4\\pi C_{\\gamma}\\rho^{\\gamma+2}\\left[ e^{i\\frac{\\pi}{L}\\frac{1+e}{4}\\rho k\\cdot \\sigma}\\text{Sinc}\\left(\\frac{\\pi}{L}\\frac{1+e}{4}\\rho |k|\\right)-1\\right]\\sum_{\\substack{l,m=-\\frac{N}{2}\\\\l+m=k}}^{\\frac{N}{2}-1}\\hat{f}_l \\left[e^{-i\\frac{\\pi}{L}\\rho m \\cdot \\sigma}\\hat{f}_m\\right],\n",
    "$$\n",
    "\n",
    "or the loss term can be computed separately as\n",
    "\n",
    "$$ \n",
    "\\hat{Q}_k^-=\\sum_{\\rho,\\sigma}w_{\\rho}w_{\\sigma}4\\pi C_{\\gamma}\\rho^{\\gamma+2}\\sum_{\\substack{l,m=-\\frac{N}{2}\\\\l+m=k}}^{\\frac{N}{2}-1}\\hat{f}_l \\left[e^{-i\\frac{\\pi}{L}\\rho m \\cdot \\sigma}\\hat{f}_m\\right]=\\sum_{\\rho}w_{\\rho}16\\pi^2 C_{\\gamma}\\rho^{\\gamma+2}\\sum_{\\substack{l,m=-\\frac{N}{2}\\\\l+m=k}}^{\\frac{N}{2}-1}\\hat{f}_l \\left[\\text{Sinc}\\left(\\frac{\\pi}{L}\\rho |m|\\right)\\hat{f}_m\\right].\n",
    "$$"
   ]
  },
  {
   "cell_type": "markdown",
   "metadata": {},
   "source": [
    "## Direct method"
   ]
  },
  {
   "cell_type": "markdown",
   "metadata": {},
   "source": [
    "In 3D, and VHS case $B_{\\sigma}(|g|,\\sigma\\cdot \\hat{g})=C_{\\gamma}|g|^{\\gamma}$:\n",
    "\n",
    "$$\n",
    "\\int_{S^2}B_{\\sigma}(|g|,\\sigma\\cdot \\hat{g})\\left(e^{-i\\frac{\\pi}{L}\\frac{1+e}{4}(l+m)\\cdot (|g|\\sigma-g)}-1\\right)\\,\\mathrm{d}\\sigma=4\\pi C_{\\gamma}|g|^{\\gamma}\\bigg[ e^{i\\frac{\\pi}{L}\\frac{1+e}{4}(l+m)\\cdot g}\\text{Sinc}\\left(\\frac{\\pi}{L}\\frac{1+e}{4}\\vert l+m \\vert|g|\\right)-1\\bigg],\n",
    "$$\n",
    "\n",
    "then let $\\rho=|g|$, $\\sigma=\\hat{g}$,\n",
    "\n",
    "$$\n",
    "G(l,m)=\\sum_{\\rho}w_{\\rho}16\\pi^2 C_{\\gamma}\\rho^{\\gamma+2}\\left[\\text{Sinc}\\left(\\frac{\\pi}{L}\\left|\\frac{1+e}{4}(l+m)-m\\right|\\rho\\right)\\text{Sinc}\\left(\\frac{\\pi}{L}\\frac{1+e}{4}|l+m|\\rho\\right)-\\text{Sinc}\\left(\\frac{\\pi}{L}\\rho|m|\\right)\\right],\n",
    "$$"
   ]
  },
  {
   "cell_type": "markdown",
   "metadata": {},
   "source": [
    "# Fast Spectral Method"
   ]
  },
  {
   "cell_type": "code",
   "execution_count": 2,
   "metadata": {},
   "outputs": [],
   "source": [
    "def isotropic_f(v):\n",
    "    t = 6.5\n",
    "    K = 1 - np.exp(-t/6)\n",
    "    v_norm = v[:,None,None]**2 + v[:,None]**2 + v**2\n",
    "    return 1/(2*(2*pi*K)**(3/2))*np.exp(-(v_norm)/(2*K))*((5*K-3)/K+(1-K)/(K**2)*(v_norm))\n",
    "\n",
    "def extQ(v):\n",
    "    t = 6.5\n",
    "    K = 1 - np.exp(-t/6)\n",
    "    dK = np.exp(-t/6)/6\n",
    "    v_norm = v[:,None,None]**2 + v[:,None]**2 + v**2\n",
    "    df = (-3/(2*K)+(v_norm)/(2*K**2))*f + 1/(2*(2*pi*K)**(3/2))*np.exp(-v_norm/(2*K))*(\n",
    "    3/(K**2)+(K-2)/(K**3)*v_norm)\n",
    "    return df*dK\n",
    "\n",
    "def anisotropic_f(v):\n",
    "    return 0.8*pi**(-1.5)*(np.exp(-16**(1/3)*((v-2)[:,None,None]**2 + (v-2)[:,None]**2 + (v-2)**2)) \n",
    "                           + np.exp(-(v+0.5)[:,None,None]**2-(v+0.5)[:,None]**2 - (v+0.5)**2))\n",
    "\n",
    "def maxwellian(v, rho, u, T):\n",
    "    v_u = ((v - u[0])**2)[:,None,None] + ((v - u[1])**2)[:,None] + (v - u[2])**2\n",
    "    return rho/(2*pi*T)**(3/2)*np.exp(-v_u/(2*T))"
   ]
  },
  {
   "cell_type": "code",
   "execution_count": 3,
   "metadata": {},
   "outputs": [],
   "source": [
    "config_3D = get_config('../src/configs/config_3D.json')\n",
    "\n",
    "Q_direct = DirectCol3D(config_3D)\n",
    "# Q_direct.save_Glm('../data/Glm_02_32')\n",
    "Q_direct.get_Glm_from_file('../data/Glm_e02_32_zip.npz')"
   ]
  },
  {
   "cell_type": "code",
   "execution_count": 4,
   "metadata": {},
   "outputs": [
    {
     "name": "stdout",
     "output_type": "stream",
     "text": [
      "CPU times: user 25.2 s, sys: 936 ms, total: 26.1 s\n",
      "Wall time: 26.2 s\n"
     ]
    }
   ],
   "source": [
    "%time Q_direct_col = Q_direct.col(anisotropic_f(Q_direct.v))/(4*pi)"
   ]
  },
  {
   "cell_type": "code",
   "execution_count": 21,
   "metadata": {},
   "outputs": [],
   "source": [
    "config_3D = get_config('../src/configs/config_3D.json')\n",
    "Q = FastSpectralCollison3D(config_3D)"
   ]
  },
  {
   "cell_type": "code",
   "execution_count": 22,
   "metadata": {},
   "outputs": [
    {
     "name": "stdout",
     "output_type": "stream",
     "text": [
      "CPU times: user 10.8 s, sys: 2.96 s, total: 13.7 s\n",
      "Wall time: 6.36 s\n"
     ]
    },
    {
     "data": {
      "text/plain": [
       "3.747408101774895e-05"
      ]
     },
     "execution_count": 22,
     "metadata": {},
     "output_type": "execute_result"
    }
   ],
   "source": [
    "%time Q_sep = Q.col_sep(anisotropic_f(Q.v))/(4*pi)\n",
    "np.max(np.abs(Q_sep - Q_direct_col))"
   ]
  },
  {
   "cell_type": "markdown",
   "metadata": {},
   "source": [
    "$e=0.2$, $N=32$ with anisotropic initial\n",
    "\n",
    "| Spherical Design | Error | time |\n",
    "| ------ | ------ | ------- |\n",
    "| 6 | 1.4674566108660258e-02 | 275ms |\n",
    "| 12 | 9.532325835757156e-03 | 510ms |\n",
    "| 32 | 5.92707599850977e-03 | 1.07s |\n",
    "| 48 | 1.952601851310574e-03 | 1.61s |\n",
    "| 70 | 1.43696494086e-03 | 2.74s |\n",
    "| 94 | 4.354500695785647e-04 | 3.65s |\n",
    "| 120 | 3.534377201557734e-04 | 3.98s |\n",
    "| 156 | 9.811152052724729e-05 | 6.35s |\n",
    "| 192 | 3.747408101774895e-05 | 6.36s |"
   ]
  },
  {
   "cell_type": "code",
   "execution_count": 91,
   "metadata": {},
   "outputs": [],
   "source": [
    "config_3D = get_config('../src/configs/config_3D.json')\n",
    "Q_gauss = FastSpectralCollison3D(config_3D)"
   ]
  },
  {
   "cell_type": "code",
   "execution_count": 92,
   "metadata": {},
   "outputs": [
    {
     "name": "stdout",
     "output_type": "stream",
     "text": [
      "CPU times: user 11.8 s, sys: 3.06 s, total: 14.8 s\n",
      "Wall time: 7.03 s\n"
     ]
    },
    {
     "data": {
      "text/plain": [
       "0.0012310868626689182"
      ]
     },
     "execution_count": 92,
     "metadata": {},
     "output_type": "execute_result"
    }
   ],
   "source": [
    "%time Q_gauss_sep = Q_gauss.col_sep(anisotropic_f(Q_gauss.v))/(4*pi)\n",
    "np.max(np.abs(Q_gauss_sep - Q_direct_col))"
   ]
  },
  {
   "cell_type": "markdown",
   "metadata": {},
   "source": [
    "$e=0.2$, $N=32$ with anisotropic initial using gauss quadrature\n",
    "\n",
    "| # of ($\\theta$, $\\phi$) | Error | time |\n",
    "| ------ | ------ | ------- |\n",
    "| (2,3) | 9.301850859331023e-03 | 253s |\n",
    "| (3,4) | 1.4164542178285952e-02 | 494ms |\n",
    "| (4,8) | 2.148725985732372e-02 | 1.08s |\n",
    "| (6,8) | 3.952940827407407e-03 | 1.6s |\n",
    "| (7,10) | 3.3540095954422665e-03 | 2.98s |\n",
    "| (10,10) | 3.405850043869026e-03 | 4.15s |\n",
    "| (10,12) | 3.016912442998702e-03 | 4.56s |\n",
    "| (11,15) | 1.227818352872178e-03 | 6.86s |\n",
    "| (12,16) | 1.2310868626689182e-03 | 7.03s |"
   ]
  },
  {
   "cell_type": "code",
   "execution_count": 3,
   "metadata": {},
   "outputs": [],
   "source": [
    "def plot_time(N, cost1, cost2, name):\n",
    "    fig, ax = plt.subplots()\n",
    "    ax.loglog(N, cost1, 'o-', label='Computation time$')\n",
    "    ax.loglog(N, cost2, label='reference: 3-order')\n",
    "    ax.set_xlabel('$N$')\n",
    "    ax.set_ylabel('Time')\n",
    "    ax.set_title('Convergence of RK3 in $\\Delta t$')\n",
    "    ax.legend(fontsize='large')\n",
    "    ax.grid(which='both',linestyle=':')\n",
    "#     plt.savefig(name)\n",
    "    plt.show()"
   ]
  },
  {
   "cell_type": "code",
   "execution_count": 30,
   "metadata": {},
   "outputs": [
    {
     "data": {
      "image/png": "[encoded data removed]",
      "text/plain": [
       "<matplotlib.figure.Figure at 0x7f8e5aa90b00>"
      ]
     },
     "metadata": {},
     "output_type": "display_data"
    }
   ],
   "source": [
    "fig, ax = plt.subplots()\n",
    "ax.loglog(N, cost_direct, 'o-', label='Direct method')\n",
    "ax.loglog(N_fast, cost_fast, '*-', label='Fast method')\n",
    "ax.set_xlabel('$N$')\n",
    "ax.set_ylabel('Time (s)')\n",
    "ax.set_title('CPU time')\n",
    "ax.legend(fontsize='large')\n",
    "ax.grid(which='both',linestyle=':')\n",
    "plt.savefig('CPU time.pdf')\n",
    "plt.show()"
   ]
  },
  {
   "cell_type": "markdown",
   "metadata": {},
   "source": [
    "$e=0.2$, Spherical design number $= 32$\n",
    "\n",
    "| N | Direct method | Fast method |\n",
    "| ------ | ------ | ------ |\n",
    "| 8 | 32.2ms | 17.6ms |\n",
    "| 16 | 602ms | 140ms |\n",
    "| 32 | 23.7s | 1.18s|\n",
    "| 64 | -- | 9.7s |"
   ]
  },
  {
   "cell_type": "code",
   "execution_count": 22,
   "metadata": {},
   "outputs": [
    {
     "data": {
      "text/plain": [
       "[<matplotlib.lines.Line2D at 0x7f8e5fb0c668>]"
      ]
     },
     "execution_count": 22,
     "metadata": {},
     "output_type": "execute_result"
    },
    {
     "data": {
      "image/png": "[encoded data removed]",
      "text/plain": [
       "<matplotlib.figure.Figure at 0x7f8e5ad13fd0>"
      ]
     },
     "metadata": {},
     "output_type": "display_data"
    }
   ],
   "source": [
    "N = [8, 16, 32]\n",
    "cost_direct = [32.2e-3, 6.02e-1, 23.7]\n",
    "fig, ax = plt.subplots()\n",
    "ax.loglog(N, cost_direct, 'o-', label='Computation time$')\n",
    "ax.loglog(N_fast, cost_fast, 'x-', label='Computation time$')"
   ]
  },
  {
   "cell_type": "code",
   "execution_count": 21,
   "metadata": {},
   "outputs": [
    {
     "data": {
      "text/plain": [
       "[<matplotlib.lines.Line2D at 0x7f8e5ac8d978>]"
      ]
     },
     "execution_count": 21,
     "metadata": {},
     "output_type": "execute_result"
    },
    {
     "data": {
      "image/png": "[encoded data removed]",
      "text/plain": [
       "<matplotlib.figure.Figure at 0x7f8e5acad240>"
      ]
     },
     "metadata": {},
     "output_type": "display_data"
    }
   ],
   "source": [
    "N_fast = [8, 16, 32, 64]\n",
    "cost_fast = [17.6e-3, 1.40e-1, 1.18, 9.7]\n",
    "fig, ax = plt.subplots()\n",
    "ax.loglog(N_fast, cost_fast, 'o-', label='Computation time$')"
   ]
  },
  {
   "cell_type": "code",
   "execution_count": null,
   "metadata": {},
   "outputs": [],
   "source": [
    "# 6, 223ms\n",
    "np.max(np.abs(Q_direct - Q_1))"
   ]
  },
  {
   "cell_type": "code",
   "execution_count": null,
   "metadata": {},
   "outputs": [],
   "source": [
    "# 12, 458ms\n",
    "np.max(np.abs(Q_direct - Q_1))"
   ]
  },
  {
   "cell_type": "code",
   "execution_count": null,
   "metadata": {},
   "outputs": [],
   "source": [
    "# 32, 1.22s\n",
    "np.max(np.abs(Q_1 - Q_direct))"
   ]
  },
  {
   "cell_type": "code",
   "execution_count": null,
   "metadata": {},
   "outputs": [],
   "source": [
    "# 48, 1.79s\n",
    "np.max(np.abs(Q_1 - Q_direct))"
   ]
  },
  {
   "cell_type": "code",
   "execution_count": null,
   "metadata": {},
   "outputs": [],
   "source": [
    "# 70, 2.5s\n",
    "np.max(np.abs(Q_1 - Q_direct))"
   ]
  },
  {
   "cell_type": "code",
   "execution_count": null,
   "metadata": {},
   "outputs": [],
   "source": [
    "# 94, 3.38s\n",
    "np.max(np.abs(Q_1 - Q_direct))"
   ]
  },
  {
   "cell_type": "code",
   "execution_count": null,
   "metadata": {},
   "outputs": [],
   "source": [
    "# 120, 4.43s\n",
    "np.max(np.abs(Q_1 - Q_direct))"
   ]
  },
  {
   "cell_type": "markdown",
   "metadata": {},
   "source": [
    "$e=0.2$, $N=32$ with isotropic initial\n",
    "\n",
    "| Spherical Design | Error |\n",
    "| ------ | ------ |\n",
    "| 6 | 0.00041820767783433107 | \n",
    "| 12 | 3.1726851245650724e-05 |\n",
    "| 32 | 6.5752814213618921e-07 |\n",
    "| 48 | 5.6132233266191489e-07 |\n",
    "| 70 | 2.6714628356683257e-07 |\n",
    "| 94 | 1.0508293902503248e-07 |\n",
    "| 120 | 2.8872928147741922e-08 | "
   ]
  },
  {
   "cell_type": "markdown",
   "metadata": {},
   "source": [
    "We also have $\\rho_0 = 1$, $u_0 = 0$, $E = T$. Temperature $T$ safisfies:\n",
    "\n",
    "$$\n",
    "T=\\left(T_0-\\frac{8\\varepsilon}{1-e^2}\\right)\\exp{\\left(-\\frac{1-e^2}{4}t\\right)}+\\frac{8\\varepsilon}{1-e^2}.\n",
    "$$"
   ]
  },
  {
   "cell_type": "code",
   "execution_count": 3,
   "metadata": {},
   "outputs": [],
   "source": [
    "def T(t, e, eps, T_0):\n",
    "    return (T_0 - 8*eps/(1-e**2))*np.exp(-(1-e**2)*t/4) + 8*eps/(1-e**2)"
   ]
  },
  {
   "cell_type": "code",
   "execution_count": 4,
   "metadata": {},
   "outputs": [],
   "source": [
    "M = lambda v: maxwellian(v, 1, (0.5, -0.5, 0), 2)"
   ]
  },
  {
   "cell_type": "code",
   "execution_count": null,
   "metadata": {},
   "outputs": [],
   "source": [
    "%%time\n",
    "\n",
    "dt = 0.01\n",
    "eps = 0\n",
    "\n",
    "config_3D = get_config('../src/configs/config_3D.json')\n",
    "Q = FastSpectralCollison3D(config_3D)\n",
    "\n",
    "f_hat = []\n",
    "\n",
    "f_0 = M(Q.v)\n",
    "E_0 = 0.5*np.sum(f_0*Q.v_norm)*Q.dv**3\n",
    "f = Q.fft3(f_0).copy()\n",
    "\n",
    "for t in range(300):\n",
    "    f = RK3(f, Q.col_heat_sep, eps, dt)\n",
    "    f_hat.append(f)\n",
    "    \n",
    "f = np.real(Q.ifft3(f))\n",
    "E = 0.5*np.sum(f*Q.v_norm)*Q.dv**3"
   ]
  },
  {
   "cell_type": "code",
   "execution_count": 29,
   "metadata": {},
   "outputs": [
    {
     "data": {
      "text/plain": [
       "(0.9999999965144858, -2.708634755624087e-18, 2.166666564305162)"
      ]
     },
     "execution_count": 29,
     "metadata": {},
     "output_type": "execute_result"
    }
   ],
   "source": [
    "np.sum(f_0)*Q.dv**3, np.sum(f_0*Q.v)*Q.dv**3, np.sum(f_0*Q.v_norm)*Q.dv**3/3"
   ]
  },
  {
   "cell_type": "code",
   "execution_count": 13,
   "metadata": {},
   "outputs": [
    {
     "data": {
      "text/plain": [
       "1.9999998976384952"
      ]
     },
     "execution_count": 13,
     "metadata": {},
     "output_type": "execute_result"
    }
   ],
   "source": [
    "(np.sum(f_0*Q.v_norm)*Q.dv**3 - 0.5)/3"
   ]
  },
  {
   "cell_type": "code",
   "execution_count": 31,
   "metadata": {},
   "outputs": [
    {
     "data": {
      "text/plain": [
       "1.0045393752388172"
      ]
     },
     "execution_count": 31,
     "metadata": {},
     "output_type": "execute_result"
    }
   ],
   "source": [
    "T(1.0, 0.8, eps, E_0*2/3) - E*2/3"
   ]
  },
  {
   "cell_type": "code",
   "execution_count": 40,
   "metadata": {},
   "outputs": [
    {
     "name": "stdout",
     "output_type": "stream",
     "text": [
      "CPU times: user 287 ms, sys: 28.7 ms, total: 315 ms\n",
      "Wall time: 128 ms\n"
     ]
    }
   ],
   "source": [
    "%%time\n",
    "T_vhs = [2]\n",
    "for t in range(300):\n",
    "    f = np.real(Q.ifft3(f_hat[t]))\n",
    "    T_vhs.append((np.sum(f*Q.v_norm)*Q.dv**3 - 0.5)/3)"
   ]
  },
  {
   "cell_type": "code",
   "execution_count": 17,
   "metadata": {},
   "outputs": [
    {
     "name": "stdout",
     "output_type": "stream",
     "text": [
      "CPU times: user 257 ms, sys: 18.5 ms, total: 276 ms\n",
      "Wall time: 108 ms\n"
     ]
    }
   ],
   "source": [
    "%%time\n",
    "T_vhs_02 = [2]\n",
    "for t in range(300):\n",
    "    f = np.real(Q.ifft3(f_hat[t]))\n",
    "    T_vhs_02.append((np.sum(f*Q.v_norm)*Q.dv**3 - 0.5)/3)"
   ]
  },
  {
   "cell_type": "code",
   "execution_count": 41,
   "metadata": {},
   "outputs": [
    {
     "data": {
      "text/plain": [
       "[2,\n",
       " 1.9924670648950744,\n",
       " 1.9849744491899537,\n",
       " 1.9775218176654095,\n",
       " 1.9701089380919725,\n",
       " 1.9627355788867977,\n",
       " 1.9554015091316248,\n",
       " 1.9481064985903567,\n",
       " 1.9408503177261656,\n",
       " 1.9336327377182494,\n",
       " 1.9264535304781114,\n",
       " 1.9193124686654723,\n",
       " 1.9122093257037627,\n",
       " 1.9051438757952008,\n",
       " 1.898115893935473,\n",
       " 1.8911251559280042,\n",
       " 1.884171438397834,\n",
       " 1.8772545188050855,\n",
       " 1.870374175458058,\n",
       " 1.863530187525896,\n",
       " 1.856722335050898,\n",
       " 1.8499503989604253,\n",
       " 1.8432141610784099,\n",
       " 1.8365134041365303,\n",
       " 1.829847911784953,\n",
       " 1.8232174686027334,\n",
       " 1.816621860107837,\n",
       " 1.8100608727667995,\n",
       " 1.8035342940040184,\n",
       " 1.7970419122106918,\n",
       " 1.7905835167533786,\n",
       " 1.784158897982256,\n",
       " 1.7777678472389746,\n",
       " 1.7714101568642044,\n",
       " 1.7650856202048537,\n",
       " 1.7587940316208954,\n",
       " 1.752535186491933,\n",
       " 1.7463088812234109,\n",
       " 1.7401149132524871,\n",
       " 1.7339530810536121,\n",
       " 1.727823184143807,\n",
       " 1.7217250230875851,\n",
       " 1.7156583995016443,\n",
       " 1.7096231160591888,\n",
       " 1.7036189764940108,\n",
       " 1.697645785604249,\n",
       " 1.6917033492559066,\n",
       " 1.68579147438603,\n",
       " 1.6799099690056665,\n",
       " 1.6740586422025503,\n",
       " 1.6682373041434795,\n",
       " 1.6624457660764833,\n",
       " 1.6566838403327158,\n",
       " 1.6509513403280989,\n",
       " 1.6452480805647245,\n",
       " 1.6395738766320258,\n",
       " 1.6339285452076957,\n",
       " 1.62831190405839,\n",
       " 1.6227237720402108,\n",
       " 1.6171639690989554,\n",
       " 1.6116323162701593,\n",
       " 1.6061286356789308,\n",
       " 1.6006527505395731,\n",
       " 1.595204485155013,\n",
       " 1.589783664916043,\n",
       " 1.58439011630034,\n",
       " 1.57902366687134,\n",
       " 1.5736841452769055,\n",
       " 1.5683713812478135,\n",
       " 1.5630852055960878,\n",
       " 1.5578254502131632,\n",
       " 1.5525919480678592,\n",
       " 1.547384533204233,\n",
       " 1.5422030407392517,\n",
       " 1.537047306860317,\n",
       " 1.5319171688226672,\n",
       " 1.5268124649466006,\n",
       " 1.5217330346146036,\n",
       " 1.5166787182682986,\n",
       " 1.5116493574053191,\n",
       " 1.5066447945760009,\n",
       " 1.5016648733800009,\n",
       " 1.496709438462769,\n",
       " 1.491778335511919,\n",
       " 1.4868714112535022,\n",
       " 1.4819885134481403,\n",
       " 1.4771294908870924,\n",
       " 1.4722941933882143,\n",
       " 1.467482471791809,\n",
       " 1.462694177956415,\n",
       " 1.4579291647544557,\n",
       " 1.4531872860678794,\n",
       " 1.4484683967836551,\n",
       " 1.443772352789221,\n",
       " 1.4390990109678532,\n",
       " 1.4344482291939646,\n",
       " 1.429819866328321,\n",
       " 1.4252137822132385,\n",
       " 1.4206298376676585,\n",
       " 1.4160678944822056,\n",
       " 1.4115278154141742,\n",
       " 1.4070094641824749,\n",
       " 1.4025127054625102,\n",
       " 1.3980374048810267,\n",
       " 1.3935834290108922,\n",
       " 1.3891506453658822,\n",
       " 1.3847389223953643,\n",
       " 1.380348129478986,\n",
       " 1.3759781369213169,\n",
       " 1.3716288159464647,\n",
       " 1.3673000386926562,\n",
       " 1.3629916782067755,\n",
       " 1.358703608438917,\n",
       " 1.3544357042368746,\n",
       " 1.3501878413406159,\n",
       " 1.345959896376774,\n",
       " 1.341751746853068,\n",
       " 1.3375632711527574,\n",
       " 1.3333943485290434,\n",
       " 1.3292448590994859,\n",
       " 1.325114683840404,\n",
       " 1.321003704581254,\n",
       " 1.3169118039990322,\n",
       " 1.3128388656126289,\n",
       " 1.308784773777225,\n",
       " 1.3047494136786655,\n",
       " 1.3007326713278113,\n",
       " 1.296734433554955,\n",
       " 1.2927545880041487,\n",
       " 1.2887930231276348,\n",
       " 1.2848496281802133,\n",
       " 1.2809242932136309,\n",
       " 1.2770169090710028,\n",
       " 1.2731273673811965,\n",
       " 1.2692555605532903,\n",
       " 1.2654013817709824,\n",
       " 1.2615647249870425,\n",
       " 1.2577454849177816,\n",
       " 1.2539435570375097,\n",
       " 1.250158837573049,\n",
       " 1.2463912234982335,\n",
       " 1.2426406125284062,\n",
       " 1.2389069031150102,\n",
       " 1.235189994440112,\n",
       " 1.2314897864109982,\n",
       " 1.227806179654779,\n",
       " 1.2241390755130055,\n",
       " 1.220488376036321,\n",
       " 1.2168539839791244,\n",
       " 1.213235802794259,\n",
       " 1.209633736627741,\n",
       " 1.2060476903134818,\n",
       " 1.2024775693680814,\n",
       " 1.198923279985574,\n",
       " 1.1953847290322839,\n",
       " 1.1918618240416539,\n",
       " 1.1883544732091182,\n",
       " 1.1848625853869932,\n",
       " 1.1813860700794194,\n",
       " 1.177924837437298,\n",
       " 1.1744787982532803,\n",
       " 1.1710478639567699,\n",
       " 1.1676319466089875,\n",
       " 1.164230958898011,\n",
       " 1.1608448141338978,\n",
       " 1.1574734262438076,\n",
       " 1.1541167097671596,\n",
       " 1.1507745798508202,\n",
       " 1.1474469522443491,\n",
       " 1.14413374329521,\n",
       " 1.1408348699440873,\n",
       " 1.137550249720195,\n",
       " 1.1342798007366077,\n",
       " 1.131023441685665,\n",
       " 1.1277810918343565,\n",
       " 1.1245526710197753,\n",
       " 1.121338099644593,\n",
       " 1.1181372986725504,\n",
       " 1.1149501896240144,\n",
       " 1.1117766945715317,\n",
       " 1.1086167361354424,\n",
       " 1.1054702374794985,\n",
       " 1.1023371223065412,\n",
       " 1.099217314854194,\n",
       " 1.0961107398905854,\n",
       " 1.0930173227101327,\n",
       " 1.0899369891293043,\n",
       " 1.086869665482465,\n",
       " 1.0838152786177329,\n",
       " 1.0807737558928683,\n",
       " 1.077745025171173,\n",
       " 1.0747290148174846,\n",
       " 1.0717256536941202,\n",
       " 1.0687348711569242,\n",
       " 1.0657565970512894,\n",
       " 1.0627907617082555,\n",
       " 1.0598372959406122,\n",
       " 1.0568961310390363,\n",
       " 1.0539671987682744,\n",
       " 1.0510504313633382,\n",
       " 1.0481457615257392,\n",
       " 1.04525312241976,\n",
       " 1.0423724476687426,\n",
       " 1.0395036713514176,\n",
       " 1.0366467279982607,\n",
       " 1.0338015525878839,\n",
       " 1.030968080543439,\n",
       " 1.0281462477290686,\n",
       " 1.0253359904463901,\n",
       " 1.0225372454309893,\n",
       " 1.0197499498489764,\n",
       " 1.0169740412935233,\n",
       " 1.0142094577814575,\n",
       " 1.011456137749904,\n",
       " 1.008714020052927,\n",
       " 1.0059830439581887,\n",
       " 1.0032631491436927,\n",
       " 1.0005542756944912,\n",
       " 0.9978563640994523,\n",
       " 0.9951693552480546,\n",
       " 0.9924931904272055,\n",
       " 0.989827811318088,\n",
       " 0.9871731599930205,\n",
       " 0.9845291789123684,\n",
       " 0.9818958109214738,\n",
       " 0.9792729992475967,\n",
       " 0.9766606874968972,\n",
       " 0.9740588196514387,\n",
       " 0.9714673400662276,\n",
       " 0.9688861934662608,\n",
       " 0.9663153249436182,\n",
       " 0.9637546799545574,\n",
       " 0.9612042043166485,\n",
       " 0.9586638442059497,\n",
       " 0.9561335461541672,\n",
       " 0.9536132570458643,\n",
       " 0.9511029241157237,\n",
       " 0.948602494945757,\n",
       " 0.9461119174626172,\n",
       " 0.9436311399348947,\n",
       " 0.9411601109704332,\n",
       " 0.9386987795137017,\n",
       " 0.9362470948431473,\n",
       " 0.9338050065685897,\n",
       " 0.9313724646286742,\n",
       " 0.9289494192882781,\n",
       " 0.926535821135983,\n",
       " 0.9241316210815828,\n",
       " 0.9217367703535566,\n",
       " 0.9193512204966313,\n",
       " 0.9169749233693131,\n",
       " 0.9146078311414801,\n",
       " 0.9122498962919597,\n",
       " 0.9099010716061552,\n",
       " 0.9075613101736679,\n",
       " 0.9052305653859866,\n",
       " 0.9029087909341221,\n",
       " 0.9005959408063499,\n",
       " 0.8982919692858972,\n",
       " 0.8959968309486919,\n",
       " 0.8937104806611235,\n",
       " 0.8914328735778194,\n",
       " 0.889163965139448,\n",
       " 0.8869037110705184,\n",
       " 0.8846520673772367,\n",
       " 0.8824089903453466,\n",
       " 0.8801744365380121,\n",
       " 0.8779483627937008,\n",
       " 0.8757307262241073,\n",
       " 0.8735214842120652,\n",
       " 0.871320594409508,\n",
       " 0.8691280147354262,\n",
       " 0.8669437033738573,\n",
       " 0.8647676187718697,\n",
       " 0.8625997196375939,\n",
       " 0.8604399649382638,\n",
       " 0.8582883138982478,\n",
       " 0.8561447259971312,\n",
       " 0.854009160967796,\n",
       " 0.8518815787945258,\n",
       " 0.8497619397111276,\n",
       " 0.8476502041990585,\n",
       " 0.8455463329855784,\n",
       " 0.8434502870419139,\n",
       " 0.8413620275814595,\n",
       " 0.8392815160579508,\n",
       " 0.8372087141636927,\n",
       " 0.8351435838277826,\n",
       " 0.8330860872143616,\n",
       " 0.8310361867208598,\n",
       " 0.8289938449762957,\n",
       " 0.8269590248395278,\n",
       " 0.8249316893976077,\n",
       " 0.8229118019640583,\n",
       " 0.820899326077214,\n",
       " 0.818894225498573,\n",
       " 0.8168964642111846,\n",
       " 0.8149060064179693,\n",
       " 0.8129228165401473,\n",
       " 0.8109468592156385,\n",
       " 0.8089780992974723]"
      ]
     },
     "execution_count": 41,
     "metadata": {},
     "output_type": "execute_result"
    }
   ],
   "source": [
    "T_vhs"
   ]
  },
  {
   "cell_type": "code",
   "execution_count": 24,
   "metadata": {},
   "outputs": [],
   "source": [
    "from __future__ import absolute_import, division, print_function\n",
    "import tensorflow as tf"
   ]
  },
  {
   "cell_type": "code",
   "execution_count": 42,
   "metadata": {},
   "outputs": [
    {
     "name": "stdout",
     "output_type": "stream",
     "text": [
      "Epoch: 0 loss = 0.07055624 c = 0.32132024\n",
      "Epoch: 50 loss = 3.6932136e-07 c = 0.19058335\n",
      "Epoch: 100 loss = 3.6932136e-07 c = 0.19058335\n",
      "Epoch: 150 loss = 3.6932136e-07 c = 0.19058335\n",
      "Epoch: 200 loss = 3.6932136e-07 c = 0.19058335\n",
      "Epoch: 250 loss = 3.6932136e-07 c = 0.19058335\n",
      "Epoch: 300 loss = 3.6932136e-07 c = 0.19058335\n",
      "Epoch: 350 loss = 3.6932136e-07 c = 0.19058335\n",
      "Epoch: 400 loss = 3.6932136e-07 c = 0.19058335\n",
      "Epoch: 450 loss = 3.6932136e-07 c = 0.19058335\n",
      "Epoch: 500 loss = 3.6932136e-07 c = 0.19058335\n",
      "Epoch: 550 loss = 3.6932136e-07 c = 0.19058335\n",
      "Epoch: 600 loss = 3.6932136e-07 c = 0.19058335\n",
      "Epoch: 650 loss = 3.6932136e-07 c = 0.19058335\n",
      "Epoch: 700 loss = 3.6932136e-07 c = 0.19058335\n",
      "Epoch: 750 loss = 3.6932136e-07 c = 0.19058335\n",
      "Epoch: 800 loss = 3.6932136e-07 c = 0.19058335\n",
      "Epoch: 850 loss = 3.6932136e-07 c = 0.19058335\n",
      "Epoch: 900 loss = 3.6932136e-07 c = 0.19058335\n",
      "Epoch: 950 loss = 3.6932136e-07 c = 0.19058335\n",
      "Epoch: 1000 loss = 3.6932136e-07 c = 0.19058335\n",
      "Epoch: 1050 loss = 3.6932136e-07 c = 0.19058335\n",
      "Epoch: 1100 loss = 3.6932136e-07 c = 0.19058335\n",
      "Epoch: 1150 loss = 3.6932136e-07 c = 0.19058335\n",
      "Epoch: 1200 loss = 3.6932136e-07 c = 0.19058335\n",
      "Epoch: 1250 loss = 3.6932136e-07 c = 0.19058335\n",
      "Epoch: 1300 loss = 3.6932136e-07 c = 0.19058335\n",
      "Epoch: 1350 loss = 3.6932136e-07 c = 0.19058335\n",
      "Epoch: 1400 loss = 3.6932136e-07 c = 0.19058335\n",
      "Epoch: 1450 loss = 3.6932136e-07 c = 0.19058335\n",
      "Epoch: 1500 loss = 3.6932136e-07 c = 0.19058335\n",
      "Epoch: 1550 loss = 3.6932136e-07 c = 0.19058335\n",
      "Epoch: 1600 loss = 3.6932136e-07 c = 0.19058335\n",
      "Epoch: 1650 loss = 3.6932136e-07 c = 0.19058335\n",
      "Epoch: 1700 loss = 3.6932136e-07 c = 0.19058335\n",
      "Epoch: 1750 loss = 3.6932136e-07 c = 0.19058335\n",
      "Epoch: 1800 loss = 3.6932136e-07 c = 0.19058335\n",
      "Epoch: 1850 loss = 3.6932136e-07 c = 0.19058335\n",
      "Epoch: 1900 loss = 3.6932136e-07 c = 0.19058335\n",
      "Epoch: 1950 loss = 3.6932136e-07 c = 0.19058335\n"
     ]
    }
   ],
   "source": [
    "learning_rate = 0.1\n",
    "training_epochs = 2000\n",
    "display_step = 50\n",
    "\n",
    "# a = tf.Variable(1.0, tf.float32)\n",
    "c = tf.Variable(0.1, tf.float32)\n",
    "x = tf.placeholder(tf.float32)\n",
    "y = tf.placeholder(tf.float32)\n",
    "\n",
    "model = 2/(1.0 + c*x)**2\n",
    "loss = tf.reduce_sum(tf.square(model - y))/300\n",
    "\n",
    "optimizer = tf.train.GradientDescentOptimizer(learning_rate).minimize(loss)\n",
    "\n",
    "init = tf.global_variables_initializer()\n",
    "with tf.Session() as sess:\n",
    "    sess.run(init)\n",
    "    for epoch in range(training_epochs):\n",
    "        sess.run(optimizer, feed_dict={x: np.arange(0, 3.01, 0.01), y: T_vhs})\n",
    "        #Display logs per epoch step\n",
    "        if epoch % display_step == 0:\n",
    "            print(\"Epoch: \" + str(epoch)+ \" loss = \" \n",
    "                  + str(sess.run(loss, feed_dict={x: np.arange(0, 3.01, 0.01), y: T_vhs}))\n",
    "                  + \" c = \" + str(sess.run(c)))       "
   ]
  },
  {
   "cell_type": "code",
   "execution_count": 45,
   "metadata": {},
   "outputs": [
    {
     "data": {
      "image/png": "[encoded data removed]",
      "text/plain": [
       "<Figure size 432x288 with 1 Axes>"
      ]
     },
     "metadata": {},
     "output_type": "display_data"
    }
   ],
   "source": [
    "t = np.arange(0, 3.01, 0.01)\n",
    "\n",
    "fig, ax = plt.subplots()\n",
    "ax.plot(t, np.asarray(T_vhs), '--', label=r'$T_{num}$ with $e=0.8$')\n",
    "ax.plot(t, 2/(1 + 0.19058335*t)**2, label=r'$\\frac{2}{(1+0.16752392t)^2}$')\n",
    "ax.plot(t, np.asarray(T_vhs_02), '-.', label=r'$T_{num}$ with $e=0.2$')\n",
    "ax.plot(t, 2/(1.0 + 0.5159175*t)**2, label=r'$\\frac{1}{(1+0.42321277t)^2}$')\n",
    "ax.set_xlabel('$t$')\n",
    "ax.set_ylabel('$T$')\n",
    "ax.set_title('Haff\\'s cooling law with a maxwellian as initial.')\n",
    "ax.legend(fontsize='large')\n",
    "ax.grid(which='both',linestyle=':')\n",
    "plt.savefig('Haff_cooling_new.pdf')\n",
    "plt.show()\n",
    "\n",
    "# plt.plot(t, np.asarray(T_vhs), '--', t, 2.25/(1+0.36*t)**2)"
   ]
  },
  {
   "cell_type": "code",
   "execution_count": 31,
   "metadata": {
    "collapsed": true
   },
   "outputs": [],
   "source": [
    "def T(t, e, eps, T_0):\n",
    "    return (T_0 - 8*eps/(1-e**2))*np.exp(-(1-e**2)*t/4) + 8*eps/(1-e**2)"
   ]
  },
  {
   "cell_type": "code",
   "execution_count": 99,
   "metadata": {},
   "outputs": [
    {
     "data": {
      "text/plain": [
       "0.2661413377541729"
      ]
     },
     "execution_count": 99,
     "metadata": {},
     "output_type": "execute_result"
    }
   ],
   "source": [
    "# e=0.2, 003\n",
    "T(1, 0.2, eps, E_0*2/3) - E*2/3"
   ]
  },
  {
   "cell_type": "code",
   "execution_count": 103,
   "metadata": {},
   "outputs": [
    {
     "data": {
      "text/plain": [
       "0.16773023124809094"
      ]
     },
     "execution_count": 103,
     "metadata": {},
     "output_type": "execute_result"
    }
   ],
   "source": [
    "# e=0.2, 005\n",
    "T(1, 0.2, eps, E_0*2/3) - E*2/3"
   ]
  },
  {
   "cell_type": "code",
   "execution_count": 107,
   "metadata": {},
   "outputs": [
    {
     "data": {
      "text/plain": [
       "0.10297536867238799"
      ]
     },
     "execution_count": 107,
     "metadata": {},
     "output_type": "execute_result"
    }
   ],
   "source": [
    "# e=0.2, 007\n",
    "T(1, 0.2, eps, E_0*2/3) - E*2/3"
   ]
  },
  {
   "cell_type": "code",
   "execution_count": 112,
   "metadata": {},
   "outputs": [
    {
     "data": {
      "text/plain": [
       "0.02584202650005074"
      ]
     },
     "execution_count": 112,
     "metadata": {},
     "output_type": "execute_result"
    }
   ],
   "source": [
    "# e=0.2, 009\n",
    "T(1, 0.2, eps, E_0*2/3) - E*2/3"
   ]
  },
  {
   "cell_type": "code",
   "execution_count": 118,
   "metadata": {},
   "outputs": [
    {
     "data": {
      "text/plain": [
       "-0.02422376071694199"
      ]
     },
     "execution_count": 118,
     "metadata": {},
     "output_type": "execute_result"
    }
   ],
   "source": [
    "# e=0.2, 011\n",
    "T(1, 0.2, eps, E_0*2/3) - E*2/3"
   ]
  },
  {
   "cell_type": "code",
   "execution_count": 122,
   "metadata": {},
   "outputs": [
    {
     "data": {
      "text/plain": [
       "-0.003058799838901116"
      ]
     },
     "execution_count": 122,
     "metadata": {},
     "output_type": "execute_result"
    }
   ],
   "source": [
    "# e=0.2, 013\n",
    "T(1, 0.2, eps, E_0*2/3) - E*2/3"
   ]
  },
  {
   "cell_type": "code",
   "execution_count": 126,
   "metadata": {},
   "outputs": [
    {
     "data": {
      "text/plain": [
       "0.004413127388460447"
      ]
     },
     "execution_count": 126,
     "metadata": {},
     "output_type": "execute_result"
    }
   ],
   "source": [
    "# e=0.2, 015\n",
    "T(1, 0.2, eps, E_0*2/3) - E*2/3"
   ]
  },
  {
   "cell_type": "code",
   "execution_count": 130,
   "metadata": {},
   "outputs": [
    {
     "data": {
      "text/plain": [
       "-0.001220110856786194"
      ]
     },
     "execution_count": 130,
     "metadata": {},
     "output_type": "execute_result"
    }
   ],
   "source": [
    "# e=0.2, 017\n",
    "T(1, 0.2, eps, E_0*2/3) - E*2/3"
   ]
  },
  {
   "cell_type": "code",
   "execution_count": 134,
   "metadata": {},
   "outputs": [
    {
     "data": {
      "text/plain": [
       "-0.000396517639616345"
      ]
     },
     "execution_count": 134,
     "metadata": {},
     "output_type": "execute_result"
    }
   ],
   "source": [
    "# e=0.2, 019\n",
    "T(1, 0.2, eps, E_0*2/3) - E*2/3"
   ]
  },
  {
   "cell_type": "markdown",
   "metadata": {},
   "source": [
    "$T = 1$, $\\Delta t = 0.01$ with anisotropic initial\n",
    "\n",
    "| Spherical Design | 0.2 |\n",
    "| ------ | ------ |\n",
    "| 6 | 2.661413377541729e-01 | \n",
    "| 12 | 1.6773023124809094e-01 |\n",
    "| 32 | 1.0297536867238799e-01 |\n",
    "| 48 | 2.584202650005074e-02 |\n",
    "| 70 | 2.422376071694199e-02 |\n",
    "| 94 | 3.058799838901116e-03 |\n",
    "| 120 | 4.413127388460447e-03 |\n",
    "| 156 | 1.220110856786194e-03 |\n",
    "| 192 | 3.96517639616345e-04 |"
   ]
  },
  {
   "cell_type": "markdown",
   "metadata": {},
   "source": [
    "$T = 1$, $\\Delta t = 0.01$ with isotropic initial\n",
    "\n",
    "| Spherical Design | 0.2 |\n",
    "| ------ | ------ |\n",
    "| 6 | 0.0013957739849754791 | \n",
    "| 12 | 9.9706271716293315e-05 |\n",
    "| 32 | 2.2499901350947482e-06 |\n",
    "| 48 | 2.4272557155313734e-06 |\n",
    "| 70 | 2.4703481364962698e-06 |\n",
    "| 94 | 2.4703481364962698e-06 |\n",
    "| 120 | 2.453380453903975e-06 | "
   ]
  }
 ],
 "metadata": {
  "kernelspec": {
   "display_name": "Python 3",
   "language": "python",
   "name": "python3"
  },
  "language_info": {
   "codemirror_mode": {
    "name": "ipython",
    "version": 3
   },
   "file_extension": ".py",
   "mimetype": "text/x-python",
   "name": "python",
   "nbconvert_exporter": "python",
   "pygments_lexer": "ipython3",
   "version": "3.6.5"
  }
 },
 "nbformat": 4,
 "nbformat_minor": 2
}
